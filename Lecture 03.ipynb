{
 "cells": [
  {
   "cell_type": "markdown",
   "metadata": {},
   "source": [
    "<center>\n",
    "    <h1 style=\"color:blue\"> YSU MMF, Python, Spring 2021 </h1>\n",
    "    <h2 style=\"color:blue\"> Lecture 03 </h2>\n",
    "</center>"
   ]
  },
  {
   "cell_type": "markdown",
   "metadata": {},
   "source": [
    "## - Introduction to LaTeX"
   ]
  },
  {
   "cell_type": "markdown",
   "metadata": {},
   "source": [
    "-- Write basic Math like $\\sqrt{2}$, $\\sqrt[4]{25}$, $\\frac{1}{2}$, $\\dfrac{1}{2}$"
   ]
  },
  {
   "cell_type": "markdown",
   "metadata": {},
   "source": [
    "-- Another one: $\\sqrt[4]{200} + \\frac{1}{2}+1/2+\\dfrac{2}{3}$"
   ]
  },
  {
   "cell_type": "markdown",
   "metadata": {},
   "source": [
    "-- Write $\\mathcal{N}(0,1)$ and $\\mathbf{X} = (X,Y,Z)$"
   ]
  },
  {
   "cell_type": "markdown",
   "metadata": {},
   "source": [
    "-- Let us assume $X\\sim \\mathcal{N}(0,1)$"
   ]
  },
  {
   "cell_type": "markdown",
   "metadata": {},
   "source": [
    "-- Type $x\\in \\mathbb{R}$ and $n\\in\\mathbb{N}$"
   ]
  },
  {
   "cell_type": "markdown",
   "metadata": {},
   "source": [
    "-- Also, $x\\in (-\\infty, +\\infty)$"
   ]
  },
  {
   "cell_type": "markdown",
   "metadata": {},
   "source": [
    "-- Create a text with inline equations $x_1$ and $a^2+b^2$"
   ]
  },
  {
   "cell_type": "markdown",
   "metadata": {},
   "source": [
    "-- Write $x_{ij}$"
   ]
  },
  {
   "cell_type": "markdown",
   "metadata": {},
   "source": [
    "-- Type $X^{102}$ and $f_{n+1}$"
   ]
  },
  {
   "cell_type": "markdown",
   "metadata": {},
   "source": [
    "-- Create a new line centered equation:\n",
    "$$\n",
    "\\sum_{n=1}^\\infty a_n \\qquad and\\qquad  \\int_0^1 \\sin(x)dx\n",
    "$$"
   ]
  },
  {
   "cell_type": "markdown",
   "metadata": {},
   "source": [
    "-- Write the same formulas inline: $\\sum_{n=1}^\\infty a_n$ and $\\int_0^1 \\sin(x)dx$"
   ]
  },
  {
   "cell_type": "markdown",
   "metadata": {},
   "source": [
    "-- Write the de Morgan Rules: $\\forall A, B$,\n",
    "$$\n",
    "\\overline{(A\\cup B)} = \\overline{A}\\cap \\overline{B}\n",
    "$$\n",
    "$$\n",
    "\\overline{(A\\cap B)} = \\overline{A}\\cup \\overline{B}\n",
    "$$"
   ]
  },
  {
   "cell_type": "markdown",
   "metadata": {},
   "source": [
    "-- Let $A\\subset\\Omega$ and $B\\subseteq\\mathbb{R}$"
   ]
  },
  {
   "cell_type": "markdown",
   "metadata": {},
   "source": [
    "-- Write\n",
    "$$\n",
    "f'(x) = \\dot{x}(t) + \\tilde{y}+\\hat{z}-\\bar{t}\n",
    "$$"
   ]
  },
  {
   "cell_type": "markdown",
   "metadata": {},
   "source": [
    "-- Write $\\Omega = \\{1,2,3,4,5,6\\}$"
   ]
  },
  {
   "cell_type": "markdown",
   "metadata": {},
   "source": [
    "-- Is it true that \n",
    "$$\n",
    "1\\le 2 < 3\\le 4\\ge 5>6 \\, ?\n",
    "$$"
   ]
  },
  {
   "cell_type": "markdown",
   "metadata": {},
   "source": [
    "-- We know that $1<2$, $4\\le x$ and $y\\ge -2$"
   ]
  },
  {
   "cell_type": "markdown",
   "metadata": {},
   "source": [
    "-- Write the fraction $\\dfrac{a+1}{n^2-2}$"
   ]
  },
  {
   "cell_type": "markdown",
   "metadata": {},
   "source": [
    "-- Write $\\dfrac{\\alpha + \\beta}{\\gamma^\\delta}$"
   ]
  },
  {
   "cell_type": "markdown",
   "metadata": {},
   "source": [
    "-- Write parenthesis $\\left(1+2+\\dfrac{2}{5}\\right)$"
   ]
  },
  {
   "cell_type": "markdown",
   "metadata": {},
   "source": [
    "-- Group some elements like this\n",
    "$$\n",
    "\\sum_{k=1}^{20} \\left(\\frac{1}{k^2} + \\frac{\\sin k^2}{k+1}\\right)\n",
    "$$"
   ]
  },
  {
   "cell_type": "markdown",
   "metadata": {},
   "source": [
    "-- Write $\\min\\{1,2,3,..., n\\}$ and $\\lim_{n\\to\\infty}\\frac{1+n}{n^2-4}$"
   ]
  },
  {
   "cell_type": "markdown",
   "metadata": {},
   "source": [
    "-- Write: We know that\n",
    "$$\n",
    "\\frac{1+2n}{3n-4}\\to \\frac{2}{3}\\qquad {\\rm as} \\qquad n\\to+\\infty.\n",
    "$$"
   ]
  },
  {
   "cell_type": "markdown",
   "metadata": {},
   "source": [
    "-- Write the following\n",
    "$$\n",
    "Y = w_0+w_1X_1+w_2X_2+...+\\varepsilon , \\qquad {\\rm and} \\qquad X_1, X_2,..., X_n \\ {\\rm are\\ IID}\n",
    "$$"
   ]
  },
  {
   "cell_type": "markdown",
   "metadata": {},
   "source": [
    "-- Create a Matrix\n",
    "$$\n",
    "\\left[\n",
    "\\begin{array}{ccc}\n",
    "1 & 2 & 3\\\\\n",
    "4 & 5 & 6\\\\\n",
    "7 & 8 & 9\n",
    "\\end{array}\n",
    "\\right]\n",
    "$$"
   ]
  },
  {
   "cell_type": "markdown",
   "metadata": {},
   "source": [
    "-- Create a Large Matrix\n",
    "$$\n",
    "\\left[\n",
    "\\begin{array}{ccccc}\n",
    "\\lambda & 0 & 0 & ... & 0\\\\\n",
    "0 & \\lambda & 0 & ... & 0\\\\\n",
    "0 & 0 & \\lambda & ... & 0\\\\\n",
    "\\vdots & \\vdots & \\vdots & \\ddots & \\vdots\\\\\n",
    "0 & 0 & 0 & ... & \\lambda\n",
    "\\end{array}\n",
    "\\right]\n",
    "$$"
   ]
  },
  {
   "cell_type": "markdown",
   "metadata": {},
   "source": [
    "-- Write the following function:\n",
    "$$\n",
    "f(x) = \\left\\{\n",
    "\\begin{array}{ll}\n",
    "x, & x \\ge 0\\\\[5pt]\n",
    "1-x, & x < 0\n",
    "\\end{array}\n",
    "\\right.\n",
    "$$"
   ]
  },
  {
   "cell_type": "markdown",
   "metadata": {},
   "source": [
    "-- Or the following:\n",
    "$$\n",
    "f(x) = \n",
    "\\left\\{\n",
    "\\begin{array}{rc}\n",
    "x, & եթե \\ x\\ge 0\\\\\n",
    "1-x^2+50000, & եթե\\  x<0\n",
    "\\end{array}\n",
    "\\right.\n",
    "$$"
   ]
  },
  {
   "cell_type": "markdown",
   "metadata": {},
   "source": [
    "-- Write the PDF of the Normal Distribution:\n",
    "$$\n",
    "f(x) = \\frac{1}{\\sqrt{2\\pi\\sigma^2}}\\cdot e^{-\\frac{(x-\\mu)^2}{2\\sigma^2}}\n",
    "$$"
   ]
  },
  {
   "cell_type": "markdown",
   "metadata": {},
   "source": [
    "-- State your favorite Theorem here"
   ]
  },
  {
   "cell_type": "markdown",
   "metadata": {},
   "source": [
    "-- Save this file in the PDF format"
   ]
  },
  {
   "cell_type": "markdown",
   "metadata": {},
   "source": [
    "### References\n",
    "\n",
    "* [The Not So Short Introduction to LaTeX](https://gking.harvard.edu/files/lshort2.pdf)\n",
    "* [Overleaf](https://www.overleaf.com/)"
   ]
  }
 ],
 "metadata": {
  "kernelspec": {
   "display_name": "Python 3",
   "language": "python",
   "name": "python3"
  },
  "language_info": {
   "codemirror_mode": {
    "name": "ipython",
    "version": 3
   },
   "file_extension": ".py",
   "mimetype": "text/x-python",
   "name": "python",
   "nbconvert_exporter": "python",
   "pygments_lexer": "ipython3",
   "version": "3.7.9"
  }
 },
 "nbformat": 4,
 "nbformat_minor": 4
}
