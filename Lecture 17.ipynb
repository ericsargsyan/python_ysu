{
 "cells": [
  {
   "cell_type": "markdown",
   "metadata": {},
   "source": [
    "<center>\n",
    "    <h1 style=\"color:blue\"> YSU MMF, Python, Spring 2021 </h1>\n",
    "    <h2 style=\"color:blue\"> Lecture 17 </h2>\n",
    "</center>"
   ]
  },
  {
   "cell_type": "code",
   "execution_count": 10,
   "metadata": {},
   "outputs": [],
   "source": [
    "import numpy as np\n",
    "import matplotlib.pyplot as plt"
   ]
  },
  {
   "cell_type": "code",
   "execution_count": 11,
   "metadata": {},
   "outputs": [],
   "source": [
    "from scipy import stats"
   ]
  },
  {
   "cell_type": "markdown",
   "metadata": {},
   "source": [
    "- For $X\\sim \\mathcal{N}(0,1)$, calculate the Probability $\\mathbb{P}(X\\in[-1,2])$"
   ]
  },
  {
   "cell_type": "code",
   "execution_count": 2,
   "metadata": {},
   "outputs": [],
   "source": [
    "normal = stats.norm(loc=0, scale=1)"
   ]
  },
  {
   "cell_type": "code",
   "execution_count": 3,
   "metadata": {},
   "outputs": [
    {
     "data": {
      "text/plain": [
       "0.8185946141203637"
      ]
     },
     "execution_count": 3,
     "metadata": {},
     "output_type": "execute_result"
    }
   ],
   "source": [
    "normal.cdf(2) - normal.cdf(-1)"
   ]
  },
  {
   "cell_type": "markdown",
   "metadata": {},
   "source": [
    "- Generate a sample of size 100 from the $Pareto(3)$ Distribution, using the `scipy.stats` package"
   ]
  },
  {
   "cell_type": "code",
   "execution_count": 4,
   "metadata": {},
   "outputs": [],
   "source": [
    "prto = stats.pareto(b=3)"
   ]
  },
  {
   "cell_type": "code",
   "execution_count": 8,
   "metadata": {},
   "outputs": [
    {
     "data": {
      "text/plain": [
       "array([1.30770497, 1.06556141, 1.10450031, 1.64588321, 1.09578994,\n",
       "       1.07103195, 1.41351945, 1.00593714, 1.53025481, 1.3763782 ,\n",
       "       1.97422221, 1.87169924, 1.03178245, 2.06972894, 1.10073445,\n",
       "       1.02524062, 1.75224644, 1.30826784, 2.31388618, 1.11341076,\n",
       "       1.09079406, 1.9331371 , 1.10859653, 1.16411521, 1.44951678,\n",
       "       1.73544658, 1.33080253, 1.55156077, 1.23089384, 1.8995502 ,\n",
       "       1.33595346, 1.63889828, 2.08786483, 1.43262776, 1.49039006,\n",
       "       1.70337082, 1.45757531, 2.07478132, 1.0368726 , 1.39821076,\n",
       "       1.03172556, 2.30200964, 3.1723285 , 2.52027814, 1.03051758,\n",
       "       1.0485626 , 1.49253684, 1.03784699, 1.25645718, 1.32874234,\n",
       "       1.70172777, 1.12612442, 3.78826948, 1.04613708, 1.26224186,\n",
       "       1.27426178, 1.23907375, 1.69422283, 1.47250608, 1.73381153,\n",
       "       1.94650476, 2.17747976, 1.0166403 , 1.42989368, 1.37934041,\n",
       "       1.16587702, 1.46616577, 1.22276599, 4.0650878 , 1.01575443,\n",
       "       1.693614  , 1.83265723, 1.13820211, 1.4859658 , 1.05320264,\n",
       "       1.56972754, 1.09241578, 1.76496783, 1.01727081, 1.78744021,\n",
       "       1.59481203, 1.54978991, 1.86702072, 1.04094864, 1.02248788,\n",
       "       1.06039884, 1.039084  , 1.25616368, 1.63548293, 1.40353519,\n",
       "       1.72611266, 1.2298782 , 1.7599124 , 1.56266946, 2.31001622,\n",
       "       1.5909885 , 1.023729  , 1.28112084, 1.00915709, 1.49625041])"
      ]
     },
     "execution_count": 8,
     "metadata": {},
     "output_type": "execute_result"
    }
   ],
   "source": [
    "a = prto.rvs(100)\n",
    "a"
   ]
  },
  {
   "cell_type": "code",
   "execution_count": 13,
   "metadata": {},
   "outputs": [
    {
     "data": {
      "image/png": "[encoded data removed]",
      "text/plain": [
       "<Figure size 432x288 with 1 Axes>"
      ]
     },
     "metadata": {
      "needs_background": "light"
     },
     "output_type": "display_data"
    }
   ],
   "source": [
    "plt.hist(a);"
   ]
  },
  {
   "cell_type": "markdown",
   "metadata": {},
   "source": [
    "- Assume we are modelling the number of mobile app downloads for some application, and we know that the daily average number of downloads is 123.4. Simulate the number of downloads for the next week. "
   ]
  },
  {
   "cell_type": "markdown",
   "metadata": {},
   "source": [
    "X = download per week"
   ]
  },
  {
   "cell_type": "markdown",
   "metadata": {},
   "source": [
    "$$ X\\sim Pois(7*123.4) $$"
   ]
  },
  {
   "cell_type": "code",
   "execution_count": 18,
   "metadata": {},
   "outputs": [
    {
     "data": {
      "text/plain": [
       "926.8000000000001"
      ]
     },
     "execution_count": 18,
     "metadata": {},
     "output_type": "execute_result"
    }
   ],
   "source": [
    "lam = 7*132.4\n",
    "lam"
   ]
  },
  {
   "cell_type": "code",
   "execution_count": 19,
   "metadata": {},
   "outputs": [],
   "source": [
    "pois = stats.poisson(lam)"
   ]
  },
  {
   "cell_type": "code",
   "execution_count": 22,
   "metadata": {
    "scrolled": true
   },
   "outputs": [
    {
     "data": {
      "text/plain": [
       "array([934])"
      ]
     },
     "execution_count": 22,
     "metadata": {},
     "output_type": "execute_result"
    }
   ],
   "source": [
    "pois.rvs(1)"
   ]
  },
  {
   "cell_type": "code",
   "execution_count": 23,
   "metadata": {},
   "outputs": [],
   "source": [
    "a = pois.rvs(1000)"
   ]
  },
  {
   "cell_type": "code",
   "execution_count": 24,
   "metadata": {},
   "outputs": [
    {
     "data": {
      "image/png": "[encoded data removed]",
      "text/plain": [
       "<Figure size 432x288 with 1 Axes>"
      ]
     },
     "metadata": {
      "needs_background": "light"
     },
     "output_type": "display_data"
    }
   ],
   "source": [
    "plt.hist(a);"
   ]
  },
  {
   "cell_type": "markdown",
   "metadata": {},
   "source": [
    "- Generate a random sample of size 200 from the $\\mathcal{N}(2,1)$ Distribution, and calculate the sample `mean` and the `median` of that sample"
   ]
  },
  {
   "cell_type": "code",
   "execution_count": 25,
   "metadata": {},
   "outputs": [],
   "source": [
    "nm = stats.norm(loc=2, scale=1)\n",
    "sample = nm.rvs(200)"
   ]
  },
  {
   "cell_type": "code",
   "execution_count": 29,
   "metadata": {},
   "outputs": [
    {
     "data": {
      "text/plain": [
       "1.9530750379126822"
      ]
     },
     "execution_count": 29,
     "metadata": {},
     "output_type": "execute_result"
    }
   ],
   "source": [
    "np.mean(sample)"
   ]
  },
  {
   "cell_type": "code",
   "execution_count": 30,
   "metadata": {},
   "outputs": [
    {
     "data": {
      "text/plain": [
       "1.9545725602398043"
      ]
     },
     "execution_count": 30,
     "metadata": {},
     "output_type": "execute_result"
    }
   ],
   "source": [
    "np.median(sample)"
   ]
  },
  {
   "cell_type": "markdown",
   "metadata": {},
   "source": [
    "- Generate a random sample of size 200 from the $Exp(0.4)$ Distribution, and calculate the sample `variance` and the `standard deviation` of that sample"
   ]
  },
  {
   "cell_type": "code",
   "execution_count": 37,
   "metadata": {},
   "outputs": [],
   "source": [
    "expo = stats.expon(0, 4)\n",
    "a = expo.rvs(200)"
   ]
  },
  {
   "cell_type": "code",
   "execution_count": 38,
   "metadata": {},
   "outputs": [
    {
     "data": {
      "text/plain": [
       "13.060174307705562"
      ]
     },
     "execution_count": 38,
     "metadata": {},
     "output_type": "execute_result"
    }
   ],
   "source": [
    "np.var(a)   # Դիսպերսիա"
   ]
  },
  {
   "cell_type": "code",
   "execution_count": 39,
   "metadata": {
    "scrolled": true
   },
   "outputs": [
    {
     "data": {
      "text/plain": [
       "13.060174307705562"
      ]
     },
     "execution_count": 39,
     "metadata": {},
     "output_type": "execute_result"
    }
   ],
   "source": [
    "np.mean((a - np.mean(a)) ** 2)"
   ]
  },
  {
   "cell_type": "code",
   "execution_count": 40,
   "metadata": {},
   "outputs": [
    {
     "data": {
      "text/plain": [
       "3.6138863163781956"
      ]
     },
     "execution_count": 40,
     "metadata": {},
     "output_type": "execute_result"
    }
   ],
   "source": [
    "np.std(a)"
   ]
  },
  {
   "cell_type": "markdown",
   "metadata": {},
   "source": [
    "- Generate a random sample of size 200 from the $Geom(0.2)$ Distribution, and calculate the sample `quantiles` of order 20%, 40%, 50%, 80% for that sample"
   ]
  },
  {
   "cell_type": "code",
   "execution_count": 49,
   "metadata": {},
   "outputs": [
    {
     "data": {
      "text/plain": [
       "array([ 5,  3,  1,  3,  5,  2,  1,  1,  2,  8,  4, 11,  3, 25, 10,  6,  1,\n",
       "        7,  2, 11, 10,  5,  5, 17,  9,  4, 13,  1,  1, 13,  1,  1,  1, 12,\n",
       "        2,  4,  2,  3,  4,  3,  8,  3,  4,  4,  3, 11,  4,  3,  2,  4,  7,\n",
       "        2,  1,  4,  5,  8,  3,  7,  5,  4, 16,  1,  4, 16,  2,  1,  8,  9,\n",
       "        3,  1,  8,  1,  3,  1,  1,  2,  3, 12,  1,  3, 10,  1,  1,  1,  3,\n",
       "        3,  4,  2,  2,  3,  2,  8, 14,  2,  1,  4, 18,  4,  1,  5,  2,  1,\n",
       "        2,  8, 13,  3,  3, 11,  2, 16,  2,  1,  3,  1,  1,  3,  4,  4,  1,\n",
       "        9,  6,  5,  2,  7,  3,  7,  3,  1, 11,  4, 12,  1, 16,  4,  2,  5,\n",
       "        7, 16,  4,  2,  9,  6, 11,  6,  1,  3, 14,  3, 15,  2, 10,  1,  3,\n",
       "        1,  1,  2, 15,  9,  1,  5,  5,  9, 10,  1,  2,  5, 19,  2, 11,  3,\n",
       "        2,  4,  2,  4, 13,  3,  5,  5, 13,  9,  1,  4,  2,  4,  1,  7,  1,\n",
       "        5,  2,  7,  4,  3, 13, 18,  2,  2,  1,  8,  7,  3])"
      ]
     },
     "execution_count": 49,
     "metadata": {},
     "output_type": "execute_result"
    }
   ],
   "source": [
    "a = stats.geom(0.2).rvs(200)\n",
    "a\n"
   ]
  },
  {
   "cell_type": "code",
   "execution_count": 51,
   "metadata": {},
   "outputs": [
    {
     "data": {
      "text/plain": [
       "array([2., 3., 4., 9.])"
      ]
     },
     "execution_count": 51,
     "metadata": {},
     "output_type": "execute_result"
    }
   ],
   "source": [
    "np.quantile(a, [0.2, 0.4, 0.5, 0.8])"
   ]
  },
  {
   "cell_type": "code",
   "execution_count": 53,
   "metadata": {},
   "outputs": [
    {
     "data": {
      "text/plain": [
       "array([2., 3., 4., 9.])"
      ]
     },
     "execution_count": 53,
     "metadata": {},
     "output_type": "execute_result"
    }
   ],
   "source": [
    "np.percentile(a, [20, 40, 50, 80])"
   ]
  },
  {
   "cell_type": "code",
   "execution_count": 55,
   "metadata": {},
   "outputs": [
    {
     "data": {
      "text/plain": [
       "array([ 1,  1,  1,  1,  1,  1,  1,  1,  1,  1,  1,  1,  1,  1,  1,  1,  1,\n",
       "        1,  1,  1,  1,  1,  1,  1,  1,  1,  1,  1,  1,  1,  1,  1,  1,  1,\n",
       "        1,  1,  1,  1,  1,  2,  2,  2,  2,  2,  2,  2,  2,  2,  2,  2,  2,\n",
       "        2,  2,  2,  2,  2,  2,  2,  2,  2,  2,  2,  2,  2,  2,  2,  2,  2,\n",
       "        2,  3,  3,  3,  3,  3,  3,  3,  3,  3,  3,  3,  3,  3,  3,  3,  3,\n",
       "        3,  3,  3,  3,  3,  3,  3,  3,  3,  3,  3,  3,  3,  4,  4,  4,  4,\n",
       "        4,  4,  4,  4,  4,  4,  4,  4,  4,  4,  4,  4,  4,  4,  4,  4,  4,\n",
       "        4,  4,  4,  5,  5,  5,  5,  5,  5,  5,  5,  5,  5,  5,  5,  5,  5,\n",
       "        5,  6,  6,  6,  6,  7,  7,  7,  7,  7,  7,  7,  7,  7,  8,  8,  8,\n",
       "        8,  8,  8,  8,  8,  9,  9,  9,  9,  9,  9,  9, 10, 10, 10, 10, 10,\n",
       "       11, 11, 11, 11, 11, 11, 11, 12, 12, 12, 13, 13, 13, 13, 13, 13, 14,\n",
       "       14, 15, 15, 16, 16, 16, 16, 16, 17, 18, 18, 19, 25])"
      ]
     },
     "execution_count": 55,
     "metadata": {},
     "output_type": "execute_result"
    }
   ],
   "source": [
    "np.sort(a)"
   ]
  },
  {
   "cell_type": "markdown",
   "metadata": {},
   "source": [
    "- Generate a random sample of size 200 from the $Uniform[-2,10]$ Distribution, and plot the BoxPlot of that sample using the matplotlib.pyplot's `boxplot`"
   ]
  },
  {
   "cell_type": "code",
   "execution_count": 61,
   "metadata": {},
   "outputs": [],
   "source": [
    "a = stats.uniform(-2, 10).rvs(200)"
   ]
  },
  {
   "cell_type": "code",
   "execution_count": 64,
   "metadata": {},
   "outputs": [
    {
     "data": {
      "image/png": "[encoded data removed]",
      "text/plain": [
       "<Figure size 432x288 with 1 Axes>"
      ]
     },
     "metadata": {
      "needs_background": "light"
     },
     "output_type": "display_data"
    }
   ],
   "source": [
    "plt.boxplot(a, vert=False);     # median"
   ]
  },
  {
   "cell_type": "markdown",
   "metadata": {},
   "source": [
    "- Compare the PDfs of different Normal Disdtributions with the same mean"
   ]
  },
  {
   "cell_type": "code",
   "execution_count": 65,
   "metadata": {},
   "outputs": [],
   "source": [
    "n1 = stats.norm(2, 3)\n",
    "n2 = stats.norm(2, 1)"
   ]
  },
  {
   "cell_type": "code",
   "execution_count": 67,
   "metadata": {},
   "outputs": [],
   "source": [
    "t = np.linspace(2-6, 2+6, 200)\n",
    "x = n1.pdf(t)\n",
    "y = n2.pdf(t)"
   ]
  },
  {
   "cell_type": "code",
   "execution_count": 73,
   "metadata": {},
   "outputs": [
    {
     "data": {
      "image/png": "[encoded data removed]",
      "text/plain": [
       "<Figure size 432x288 with 1 Axes>"
      ]
     },
     "metadata": {
      "needs_background": "light"
     },
     "output_type": "display_data"
    }
   ],
   "source": [
    "plt.plot(t, x)\n",
    "plt.plot(t, y);"
   ]
  },
  {
   "cell_type": "code",
   "execution_count": 74,
   "metadata": {},
   "outputs": [],
   "source": [
    "a = n1.rvs(300)\n",
    "b = n2.rvs(300)"
   ]
  },
  {
   "cell_type": "code",
   "execution_count": 77,
   "metadata": {},
   "outputs": [],
   "source": [
    "z = [a, b]"
   ]
  },
  {
   "cell_type": "code",
   "execution_count": 78,
   "metadata": {},
   "outputs": [
    {
     "data": {
      "image/png": "[encoded data removed]",
      "text/plain": [
       "<Figure size 432x288 with 1 Axes>"
      ]
     },
     "metadata": {
      "needs_background": "light"
     },
     "output_type": "display_data"
    }
   ],
   "source": [
    "plt.boxplot(z, vert=False);"
   ]
  },
  {
   "cell_type": "code",
   "execution_count": 79,
   "metadata": {},
   "outputs": [],
   "source": [
    "# dots -> outliers"
   ]
  }
 ],
 "metadata": {
  "kernelspec": {
   "display_name": "Python 3",
   "language": "python",
   "name": "python3"
  },
  "language_info": {
   "codemirror_mode": {
    "name": "ipython",
    "version": 3
   },
   "file_extension": ".py",
   "mimetype": "text/x-python",
   "name": "python",
   "nbconvert_exporter": "python",
   "pygments_lexer": "ipython3",
   "version": "3.7.9"
  }
 },
 "nbformat": 4,
 "nbformat_minor": 4
}
