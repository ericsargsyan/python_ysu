{
 "cells": [
  {
   "cell_type": "markdown",
   "id": "disturbed-facility",
   "metadata": {},
   "source": [
    "<center>\n",
    "<h1>Python</h1>\n",
    "<h2>Գարուն 2021, ԵՊՀ</h2>\n",
    "</br></br>\n",
    "<h2>Առաջին միջանկյալ քննություն</h2>\n",
    "<h2>ՈՒսանող. Անուն, Ազգանուն</h2>\n",
    "</center>"
   ]
  },
  {
   "cell_type": "markdown",
   "id": "controlled-theology",
   "metadata": {},
   "source": [
    "Sargsyan Eric"
   ]
  },
  {
   "cell_type": "code",
   "execution_count": 29,
   "id": "written-teach",
   "metadata": {},
   "outputs": [],
   "source": [
    "import numpy as np\n",
    "import matplotlib.pyplot as plt"
   ]
  },
  {
   "cell_type": "markdown",
   "id": "greatest-spine",
   "metadata": {},
   "source": [
    "**Խնդիր 1 (0.5 միավոր):** Հաշվել 1-ից մինչ 255 (ներառյալ) 3-ի բաժանվող բոլոր բնական թվերի գումարը"
   ]
  },
  {
   "cell_type": "code",
   "execution_count": 8,
   "id": "mounted-carol",
   "metadata": {},
   "outputs": [
    {
     "data": {
      "text/plain": [
       "10965"
      ]
     },
     "execution_count": 8,
     "metadata": {},
     "output_type": "execute_result"
    }
   ],
   "source": [
    "sum_ = 0\n",
    "for i in range(256):\n",
    "    if i % 3 == 0:\n",
    "        sum_ += i\n",
    "sum_        "
   ]
  },
  {
   "cell_type": "markdown",
   "id": "three-parade",
   "metadata": {},
   "source": [
    "**Խնդիր 2 (0.5 միավոր):** Երկու տարբեր նորմալ բաշխումներից գեներացնել 100-ական պատահական թիվ, միավորել ստացված զանգվածները, ու կառուցել այս միավորման հիստոգրամը՝ 25 bin-ով:"
   ]
  },
  {
   "cell_type": "code",
   "execution_count": 36,
   "id": "major-consolidation",
   "metadata": {},
   "outputs": [
    {
     "data": {
      "image/png": "[encoded data removed]",
      "text/plain": [
       "<Figure size 432x288 with 1 Axes>"
      ]
     },
     "metadata": {
      "needs_background": "light"
     },
     "output_type": "display_data"
    }
   ],
   "source": [
    "rand1 = np.random.normal(size=100)\n",
    "rand2 = np.random.normal(size=100) ### Սրանք տարբեր նորմալ բաշխումներ չեն\n",
    "union = np.concatenate((rand1, rand2))\n",
    "plt.hist(union, bins=25);"
   ]
  },
  {
   "cell_type": "markdown",
   "id": "catholic-creativity",
   "metadata": {},
   "source": [
    "**Խնդիր 3 (1 միավոր):** Ուսանողների գնահատականների մասին տրված են հետևյալ տվյալները՝ AA-ի գնահատականներն են 10, 12, 16, BB-ինը՝ 20, 14, 13, CC-ինը՝ 11, 17, 8 և DD-ինը՝ 8, 9, 8: Տվյալները ներկայացնել dictionary-ի տեսքով և գտնել ամենաբարձր ՄՈԳ-ով ուսանողին (ոչ ձեռքով հաշվելով, այլ Python-ով):"
   ]
  },
  {
   "cell_type": "code",
   "execution_count": 119,
   "id": "thirty-exploration",
   "metadata": {},
   "outputs": [
    {
     "name": "stdout",
     "output_type": "stream",
     "text": [
      "Highest Grade have student BB\n"
     ]
    }
   ],
   "source": [
    "grades = {\n",
    "      'AA': [10, 12, 16],\n",
    "      'BB': [20, 14, 13],\n",
    "      'CC': [11, 17, 8],\n",
    "      'DD': [8, 9, 8]\n",
    "}\n",
    "\n",
    "students_grades = []\n",
    "\n",
    "for i in grades:\n",
    "    students_grades.append(sum(grades[i]))\n",
    "       \n",
    "MOG = []\n",
    "\n",
    "for i in students_grades:\n",
    "    MOG.append(i / 3)\n",
    "\n",
    "max_MOG = max(MOG)\n",
    "index = MOG.index(max_MOG)  \n",
    "print(f\"Highest Grade have student {list(grades.keys())[index]}\")"
   ]
  },
  {
   "cell_type": "markdown",
   "id": "spread-cooper",
   "metadata": {},
   "source": [
    "**Խնդիր 4 (0.5 միավոր):** Ֆիքսել պատահական թվերի գեներատորի seed-ը՝ վերցնելով 10: Գեներացնել $Exp(0.43)$ բաշխումից 200 հատ պատահական թիվ, հաշվել այդ թվերի թվաբանական միջինը:"
   ]
  },
  {
   "cell_type": "code",
   "execution_count": null,
   "id": "silver-ethics",
   "metadata": {},
   "outputs": [],
   "source": [
    "rand = np.random.normal()"
   ]
  },
  {
   "cell_type": "markdown",
   "id": "alternative-demonstration",
   "metadata": {},
   "source": [
    "**Խնդիր 5 (1 միավոր):** Կառուցել \n",
    "$$\n",
    "\\sigma(x) = \\dfrac{1}{1+e^{-x}}, \\qquad x\\in[-3,3]\n",
    "$$\n",
    "(սիգմոիդ) ֆունկցիայի գրաֆիկը:"
   ]
  },
  {
   "cell_type": "code",
   "execution_count": 56,
   "id": "legitimate-martial",
   "metadata": {},
   "outputs": [
    {
     "data": {
      "image/png": "[encoded data removed]",
      "text/plain": [
       "<Figure size 432x288 with 1 Axes>"
      ]
     },
     "metadata": {
      "needs_background": "light"
     },
     "output_type": "display_data"
    }
   ],
   "source": [
    "x = np.linspace(-3, 3, 100)\n",
    "y = 1 / (1 + np.exp(-x))\n",
    "plt.plot(x, y);"
   ]
  },
  {
   "cell_type": "markdown",
   "id": "extra-reference",
   "metadata": {},
   "source": [
    "**Խնդիր 6 (1 միավոր):** $[-3,3]$ հատվածի վրա հավասարաչափ բաշխումից գեներացնել 50 պատահական թիվ, և գտնել 10-րդ, 22-րդ և նախավերջին թվերի գումարը:"
   ]
  },
  {
   "cell_type": "code",
   "execution_count": 79,
   "id": "directed-tribe",
   "metadata": {},
   "outputs": [
    {
     "data": {
      "text/plain": [
       "1.9553407102999247"
      ]
     },
     "execution_count": 79,
     "metadata": {},
     "output_type": "execute_result"
    }
   ],
   "source": [
    "rand = np.random.uniform(size=50)\n",
    "sumofgiven = rand[10] + rand[22] + rand[-2]\n",
    "sumofgiven"
   ]
  },
  {
   "cell_type": "markdown",
   "id": "fourth-catering",
   "metadata": {},
   "source": [
    "**Խնդիր 7 (1.5 միավոր):** Դիտարկենք հետևյալ պարագրաֆը.\n",
    "\n",
    "***\n",
    "Թվային շարքը կոչվում է զուգամետ, եթե շարքի մասնակի գումարների հաջորդականությունը զուգամետ է: Այդ շարքի գումար կոչվում է շարքի մասնակի գումարների հաջորդականության սահմանը: Եթե շարքի սկզբից մի քանի անդամ դեն նետենք, ապա այդ շարքի զուգամիտությունը չի փոխվի:\n",
    "***\n",
    "\n",
    "Այս պարագրաֆում փոխարինել *շարք* բառը *ՇԱՐՔ*-ով (ոչ ձեռքով անելով, Python-ի միջոցով):\n"
   ]
  },
  {
   "cell_type": "code",
   "execution_count": 150,
   "id": "juvenile-mention",
   "metadata": {},
   "outputs": [
    {
     "data": {
      "text/plain": [
       "'Թվային ՇԱՐՔԸ կոչվում է զուգամետ, եթե ՇԱՐՔԻ մասնակի գումարների հաջորդականությունը զուգամետ է: Այդ ՇԱՐՔԻ գումար կոչվում է ՇԱՐՔԻ մասնակի գումարների հաջորդականության սահմանը: Եթե ՇԱՐՔԻ սկզբից մի քանի անդամ դեն նետենք, ապա այդ ՇԱՐՔԻ զուգամիտությունը չի փոխվի:'"
      ]
     },
     "execution_count": 150,
     "metadata": {},
     "output_type": "execute_result"
    }
   ],
   "source": [
    "text = 'Թվային շարքը կոչվում է զուգամետ, եթե շարքի մասնակի գումարների հաջորդականությունը զուգամետ է: Այդ շարքի գումար կոչվում է շարքի մասնակի գումարների հաջորդականության սահմանը: Եթե շարքի սկզբից մի քանի անդամ դեն նետենք, ապա այդ շարքի զուգամիտությունը չի փոխվի:'\n",
    "for i in text.split(' '):\n",
    "    if 'շարք' in i:\n",
    "        upper  = i.upper()\n",
    "        text = text.replace(i, str(i.upper()))\n",
    "text                "
   ]
  },
  {
   "cell_type": "markdown",
   "id": "fourth-dividend",
   "metadata": {},
   "source": [
    "**Խնդիր 8 (1 միավոր):** Գրել ֆունկցիա, որը տրված $n$-ի համար կվերադարձնի Ֆիբոնաչիի հաջորդականության $n$-րդ անդամը: Նախքան կոդը գրելը նկարագրել Ֆիբոնաչիի հաջորդականությունը:"
   ]
  },
  {
   "cell_type": "markdown",
   "id": "silent-massage",
   "metadata": {},
   "source": [
    "*Ֆիբոնաչիի հաջորդականություն* մեջ ամեն թիվը հավասար է իր նախորդող **2** թվերի գումարին"
   ]
  },
  {
   "cell_type": "code",
   "execution_count": 92,
   "id": "hindu-living",
   "metadata": {},
   "outputs": [
    {
     "name": "stdout",
     "output_type": "stream",
     "text": [
      "Input nubmer: 5\n",
      "3\n"
     ]
    }
   ],
   "source": [
    "def fibonacci(n: int):\n",
    "    f1 = 0\n",
    "    f2 = 1\n",
    "    fibo = []\n",
    "    while f1 <= n:\n",
    "        fibo.append(f1)\n",
    "        f3 = f1 + f2\n",
    "        f1 = f2\n",
    "        f2 = f3\n",
    "    return fibo[n - 1] \n",
    "\n",
    "n = int(input(\"Input nubmer: \"))\n",
    "print(fibonacci(n))"
   ]
  },
  {
   "cell_type": "markdown",
   "id": "formal-tomato",
   "metadata": {},
   "source": [
    "**Խնդիր 9 (1.5 միավոր):** Գրել ֆունկցիա, որը կհաշվի եռանկյան մակերեսը՝ որպես մուտքային փոփոխականներ վերցնելով եռանկյան կողմերի երկարությունները:\n",
    "\n",
    "Նախքան Python-ի կոդ գրելը՝ մաթեմատիկորեն նկարագրել, թե ինչ է տրված և ֆունկցիան ինչ է հաշվում:\n",
    "\n",
    "\n",
    "***Լրացուցիչ.*** Որպես լրացուցիչ խնդիր (ոչ պարտադիր), կարող եք ձեր գրած ֆունկցիան կատարելագործել՝ ընդգրկելով ստուգում - արդյո՞ք տրված թվերը կարող են լինել եռանկյան կողմերի երկարություններ, թե՞ ոչ:"
   ]
  },
  {
   "cell_type": "markdown",
   "id": "alpha-month",
   "metadata": {},
   "source": [
    "Մակերեսը հաշվում է Հերոնի բանաձևով, որտեղ\n",
    "p = $ \\frac{a+b+c}{2} $ դա կիսապարագիծն է և մակերեսը՝\n",
    "\n",
    "S = $\\sqrt{p\\cdot(p-a)\\cdot(p-b)\\cdot(p-c)}$\n"
   ]
  },
  {
   "cell_type": "code",
   "execution_count": 121,
   "id": "posted-ambassador",
   "metadata": {},
   "outputs": [
    {
     "name": "stdout",
     "output_type": "stream",
     "text": [
      "6.0\n"
     ]
    }
   ],
   "source": [
    "def area(a, b, c):\n",
    "    p = (a + b + c) / 2\n",
    "    s = ((p * (p - a) * (p -b) * (p -c))) ** 0.5\n",
    "    return s\n",
    "\n",
    "a = int(input(\"Input 1 side: \"))\n",
    "b = int(input(\"Input 2 side: \"))\n",
    "c = int(input(\"Input 3 side: \"))\n",
    "\n",
    "print(area(a, b, c))    "
   ]
  },
  {
   "cell_type": "markdown",
   "id": "nasty-president",
   "metadata": {},
   "source": [
    "**Խնդիր 10 (1.5 միավոր):** Դիտարկենք հետևյալ շարքը.\n",
    "$$\n",
    "\\dfrac{1}{2} - \\dfrac{3}{2^2}+\\dfrac{5}{2^3}-\\dfrac{7}{2^4}+...\n",
    "$$\n",
    "Գրել ֆունկցիա, որը կհաշվի այս շարքի մասնակի գումարը մինչ այն առաջին անդամը, որը բացարձակ արժեքով փոքր է տրված eps-ից: Օրինակ, եթե eps = 0.44, ապա առաջին անդամը, որը փոքր է eps-ից բացարձակ արժեքով, $\\dfrac{7}{2^4}=0.4375$-ն է, և այս դեպքում ֆունկցիան պիտի վերադարձնի\n",
    "$$\n",
    "\\dfrac{1}{2} - \\dfrac{3}{2^2}+\\dfrac{5}{2^3} -\\dfrac{7}{2^4} = -0.0625\n",
    "$$"
   ]
  },
  {
   "cell_type": "code",
   "execution_count": null,
   "id": "emerging-victory",
   "metadata": {},
   "outputs": [],
   "source": [
    "sum__ = 0\n",
    "n = 1\n",
    "while True:\n",
    "    sum__ += (-1) **(n) (3 * i - 2) / 2 ** n\n",
    "    \n",
    "    \n",
    "    n += 1"
   ]
  }
 ],
 "metadata": {
  "kernelspec": {
   "display_name": "Python 3",
   "language": "python",
   "name": "python3"
  },
  "language_info": {
   "codemirror_mode": {
    "name": "ipython",
    "version": 3
   },
   "file_extension": ".py",
   "mimetype": "text/x-python",
   "name": "python",
   "nbconvert_exporter": "python",
   "pygments_lexer": "ipython3",
   "version": "3.7.7"
  }
 },
 "nbformat": 4,
 "nbformat_minor": 5
}
