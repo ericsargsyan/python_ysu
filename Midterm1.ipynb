{
 "cells": [
  {
   "cell_type": "markdown",
   "id": "killing-tracy",
   "metadata": {},
   "source": [
    "<center>\n",
    "<h1>Python</h1>\n",
    "<h2>Գարուն 2021, ԵՊՀ</h2>\n",
    "</br></br>\n",
    "<h2>Առաջին միջանկյալ քննություն</h2>\n",
    "<h2>ՈՒսանող. Անուն, Ազգանուն</h2>\n",
    "</center>"
   ]
  },
  {
   "cell_type": "markdown",
   "id": "engaged-coverage",
   "metadata": {},
   "source": [
    "**Խնդիր 1 (0.5 միավոր):** Հաշվել 1-ից մինչ 255 (ներառյալ) 3-ի բաժանվող բոլոր բնական թվերի գումարը"
   ]
  },
  {
   "cell_type": "code",
   "execution_count": null,
   "id": "ideal-legislation",
   "metadata": {},
   "outputs": [],
   "source": []
  },
  {
   "cell_type": "markdown",
   "id": "extensive-flash",
   "metadata": {},
   "source": [
    "**Խնդիր 2 (0.5 միավոր):** Երկու տարբեր նորմալ բաշխումներից գեներացնել 100-ական պատահական թիվ, միավորել ստացված զանգվածները, ու կառուցել այս միավորման հիստոգրամը՝ 25 bin-ով:"
   ]
  },
  {
   "cell_type": "code",
   "execution_count": null,
   "id": "surprising-cinema",
   "metadata": {},
   "outputs": [],
   "source": []
  },
  {
   "cell_type": "markdown",
   "id": "curious-identification",
   "metadata": {},
   "source": [
    "**Խնդիր 3 (1 միավոր):** Ուսանողների գնահատականների մասին տրված են հետևյալ տվյալները՝ AA-ի գնահատականներն են 10, 12, 16, BB-ինը՝ 20, 14, 13, CC-ինը՝ 11, 17, 8 և DD-ինը՝ 8, 9, 8: Տվյալները ներկայացնել dictionary-ի տեսքով և գտնել ամենաբարձր ՄՈԳ-ով ուսանողին (ոչ ձեռքով հաշվելով, այլ Python-ով):"
   ]
  },
  {
   "cell_type": "code",
   "execution_count": null,
   "id": "meaningful-bankruptcy",
   "metadata": {},
   "outputs": [],
   "source": []
  },
  {
   "cell_type": "markdown",
   "id": "surgical-region",
   "metadata": {},
   "source": [
    "**Խնդիր 4 (0.5 միավոր):** Ֆիքսել պատահական թվերի գեներատորի seed-ը՝ վերցնելով 10: Գեներացնել $Exp(0.43)$ բաշխումից 200 հատ պատահական թիվ, հաշվել այդ թվերի թվաբանական միջինը:"
   ]
  },
  {
   "cell_type": "code",
   "execution_count": null,
   "id": "certified-classroom",
   "metadata": {},
   "outputs": [],
   "source": []
  },
  {
   "cell_type": "markdown",
   "id": "competent-marking",
   "metadata": {},
   "source": [
    "**Խնդիր 5 (1 միավոր):** Կառուցել \n",
    "$$\n",
    "\\sigma(x) = \\dfrac{1}{1+e^{-x}}, \\qquad x\\in[-3,3]\n",
    "$$\n",
    "(սիգմոիդ) ֆունկցիայի գրաֆիկը:"
   ]
  },
  {
   "cell_type": "code",
   "execution_count": null,
   "id": "adjusted-above",
   "metadata": {},
   "outputs": [],
   "source": []
  },
  {
   "cell_type": "markdown",
   "id": "julian-tuning",
   "metadata": {},
   "source": [
    "**Խնդիր 6 (1 միավոր):** $[-3,3]$ հատվածի վրա հավասարաչափ բաշխումից գեներացնել 50 պատահական թիվ, և գտնել 10-րդ, 22-րդ և նախավերջին թվերի գումարը:"
   ]
  },
  {
   "cell_type": "code",
   "execution_count": null,
   "id": "optical-interpretation",
   "metadata": {},
   "outputs": [],
   "source": []
  },
  {
   "cell_type": "markdown",
   "id": "curious-premises",
   "metadata": {},
   "source": [
    "**Խնդիր 7 (1.5 միավոր):** Դիտարկենք հետևյալ պարագրաֆը.\n",
    "\n",
    "***\n",
    "Թվային շարքը կոչվում է զուգամետ, եթե շարքի մասնակի գումարների հաջորդականությունը զուգամետ է: Այդ շարքի գումար կոչվում է շարքի մասնակի գումարների հաջորդականության սահմանը: Եթե շարքի սկզբից մի քանի անդամ դեն նետենք, ապա այդ շարքի զուգամիտությունը չի փոխվի:\n",
    "***\n",
    "\n",
    "Այս պարագրաֆում փոխարինել *շարք* բառը *ՇԱՐՔ*-ով (ոչ ձեռքով անելով, Python-ի միջոցով):\n"
   ]
  },
  {
   "cell_type": "code",
   "execution_count": null,
   "id": "portuguese-differential",
   "metadata": {},
   "outputs": [],
   "source": []
  },
  {
   "cell_type": "markdown",
   "id": "sapphire-photography",
   "metadata": {},
   "source": [
    "**Խնդիր 8 (1 միավոր):** Գրել ֆունկցիա, որը տրված $n$-ի համար կվերադարձնի Ֆիբոնաչիի հաջորդականության $n$-րդ անդամը: Նախքան կոդը գրելը նկարագրել Ֆիբոնաչիի հաջորդականությունը:"
   ]
  },
  {
   "cell_type": "code",
   "execution_count": null,
   "id": "published-kansas",
   "metadata": {},
   "outputs": [],
   "source": []
  },
  {
   "cell_type": "markdown",
   "id": "external-grave",
   "metadata": {},
   "source": [
    "**Խնդիր 9 (1.5 միավոր):** Գրել ֆունկցիա, որը կհաշվի եռանկյան մակերեսը՝ որպես մուտքային փոփոխականներ վերցնելով եռանկյան կողմերի երկարությունները:\n",
    "\n",
    "Նախքան Python-ի կոդ գրելը՝ մաթեմատիկորեն նկարագրել, թե ինչ է տրված և ֆունկցիան ինչ է հաշվում:\n",
    "\n",
    "\n",
    "***Լրացուցիչ.*** Որպես լրացուցիչ խնդիր (ոչ պարտադիր), կարող եք ձեր գրած ֆունկցիան կատարելագործել՝ ընդգրկելով ստուգում - արդյո՞ք տրված թվերը կարող են լինել եռանկյան կողմերի երկարություններ, թե՞ ոչ:"
   ]
  },
  {
   "cell_type": "code",
   "execution_count": null,
   "id": "possible-observation",
   "metadata": {},
   "outputs": [],
   "source": []
  },
  {
   "cell_type": "markdown",
   "id": "acute-destiny",
   "metadata": {},
   "source": [
    "**Խնդիր 10 (1.5 միավոր):** Դիտարկենք հետևյալ շարքը.\n",
    "$$\n",
    "\\dfrac{1}{2} - \\dfrac{3}{2^2}+\\dfrac{5}{2^3}-\\dfrac{7}{2^4}+...\n",
    "$$\n",
    "Գրել ֆունկցիա, որը կհաշվի այս շարքի մասնակի գումարը մինչ այն առաջին անդամը, որը բացարձակ արժեքով փոքր է տրված eps-ից: Օրինակ, եթե eps = 0.44, ապա առաջին անդամը, որը փոքր է eps-ից բացարձակ արժեքով, $\\dfrac{7}{2^4}=0.4375$-ն է, և այս դեպքում ֆունկցիան պիտի վերադարձնի\n",
    "$$\n",
    "\\dfrac{1}{2} - \\dfrac{3}{2^2}+\\dfrac{5}{2^3} -\\dfrac{7}{2^4} = -0.0625\n",
    "$$"
   ]
  },
  {
   "cell_type": "code",
   "execution_count": null,
   "id": "remarkable-replacement",
   "metadata": {},
   "outputs": [],
   "source": []
  }
 ],
 "metadata": {
  "kernelspec": {
   "display_name": "Python 3",
   "language": "python",
   "name": "python3"
  },
  "language_info": {
   "codemirror_mode": {
    "name": "ipython",
    "version": 3
   },
   "file_extension": ".py",
   "mimetype": "text/x-python",
   "name": "python",
   "nbconvert_exporter": "python",
   "pygments_lexer": "ipython3",
   "version": "3.7.7"
  }
 },
 "nbformat": 4,
 "nbformat_minor": 5
}
