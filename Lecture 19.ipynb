{
 "cells": [
  {
   "cell_type": "markdown",
   "metadata": {},
   "source": [
    "<center>\n",
    "    <h1 style=\"color:blue\"> YSU MMF, Python, Spring 2021 </h1>\n",
    "    <h2 style=\"color:blue\"> Lecture 19 </h2>\n",
    "</center>"
   ]
  },
  {
   "cell_type": "code",
   "execution_count": 2,
   "metadata": {},
   "outputs": [],
   "source": [
    "%config Completer.use_jedi = False"
   ]
  },
  {
   "cell_type": "code",
   "execution_count": 3,
   "metadata": {},
   "outputs": [],
   "source": [
    "import numpy as np\n",
    "import matplotlib.pyplot as plt"
   ]
  },
  {
   "cell_type": "markdown",
   "metadata": {},
   "source": [
    "## Numpy linalg package"
   ]
  },
  {
   "cell_type": "markdown",
   "metadata": {},
   "source": [
    "- Calculate the dot product of two 1D arrays"
   ]
  },
  {
   "cell_type": "code",
   "execution_count": 6,
   "metadata": {},
   "outputs": [
    {
     "data": {
      "text/plain": [
       "2"
      ]
     },
     "execution_count": 6,
     "metadata": {},
     "output_type": "execute_result"
    }
   ],
   "source": [
    "a = np.arange(5)\n",
    "b = np.array([1, 0, 2, -2, 1])\n",
    "# np.sum(a * b)\n",
    "np.dot(a, b)"
   ]
  },
  {
   "cell_type": "markdown",
   "metadata": {},
   "source": [
    "- Calculate the $l_1$,  $l_2$ and $l_\\infty$ norms of a 1D array"
   ]
  },
  {
   "cell_type": "code",
   "execution_count": 11,
   "metadata": {},
   "outputs": [
    {
     "name": "stdout",
     "output_type": "stream",
     "text": [
      "10.0\n",
      "5.477225575051661\n",
      "4.0\n"
     ]
    }
   ],
   "source": [
    "print(np.linalg.norm(a, ord=1))\n",
    "print(np.linalg.norm(a, ord=2))\n",
    "print(np.linalg.norm(a, ord=np.inf))"
   ]
  },
  {
   "cell_type": "markdown",
   "metadata": {},
   "source": [
    "- Calculate the Matrix product of two matrices"
   ]
  },
  {
   "cell_type": "code",
   "execution_count": 16,
   "metadata": {},
   "outputs": [
    {
     "data": {
      "text/plain": [
       "array([[ 28,  29,  37,  33],\n",
       "       [120,  97, 105, 109],\n",
       "       [212, 165, 173, 185],\n",
       "       [304, 233, 241, 261]])"
      ]
     },
     "execution_count": 16,
     "metadata": {},
     "output_type": "execute_result"
    }
   ],
   "source": [
    "a = np.arange(16).reshape(4, 4)\n",
    "b = np.random.randint(low=1, high=10, size=(4,4))\n",
    "np.dot(a, b)"
   ]
  },
  {
   "cell_type": "markdown",
   "metadata": {},
   "source": [
    "- Calculate the Inverse of a square matrix, and show that it is indeed the inverse of that matrix "
   ]
  },
  {
   "cell_type": "code",
   "execution_count": 22,
   "metadata": {},
   "outputs": [
    {
     "name": "stdout",
     "output_type": "stream",
     "text": [
      "[[-0.24688279  0.17456359  0.09725686 -0.01745636]\n",
      " [ 0.13965087 -0.17955112  0.15710723 -0.18204489]\n",
      " [ 0.3915212  -0.07481297 -0.18453865  0.0074813 ]\n",
      " [-0.65835411  0.13216958  0.25935162  0.28678304]]\n"
     ]
    },
    {
     "data": {
      "text/plain": [
       "array([[ 1.00000000e+00, -1.66533454e-16, -2.22044605e-16,\n",
       "         1.11022302e-16],\n",
       "       [ 1.11022302e-16,  1.00000000e+00, -1.66533454e-16,\n",
       "         0.00000000e+00],\n",
       "       [ 0.00000000e+00, -1.11022302e-16,  1.00000000e+00,\n",
       "         0.00000000e+00],\n",
       "       [ 4.44089210e-16,  0.00000000e+00,  0.00000000e+00,\n",
       "         1.00000000e+00]])"
      ]
     },
     "execution_count": 22,
     "metadata": {},
     "output_type": "execute_result"
    }
   ],
   "source": [
    "r = np.random.randint(1, 10, (4,4))\n",
    "inverse_of_r = np.linalg.inv(r)\n",
    "print(inverse_of_r)\n",
    "np.dot(r, inverse_of_r)"
   ]
  },
  {
   "cell_type": "markdown",
   "metadata": {},
   "source": [
    "- Find the rank of a matrix"
   ]
  },
  {
   "cell_type": "code",
   "execution_count": 25,
   "metadata": {},
   "outputs": [
    {
     "data": {
      "text/plain": [
       "4"
      ]
     },
     "execution_count": 25,
     "metadata": {},
     "output_type": "execute_result"
    }
   ],
   "source": [
    "rank = np.linalg.matrix_rank(r)\n",
    "rank"
   ]
  },
  {
   "cell_type": "markdown",
   "metadata": {},
   "source": [
    "- Calculate the determinant of the matrix"
   ]
  },
  {
   "cell_type": "code",
   "execution_count": 27,
   "metadata": {},
   "outputs": [
    {
     "data": {
      "text/plain": [
       "400.9999999999997"
      ]
     },
     "execution_count": 27,
     "metadata": {},
     "output_type": "execute_result"
    }
   ],
   "source": [
    "determinant = np.linalg.det(r)\n",
    "determinant"
   ]
  },
  {
   "cell_type": "markdown",
   "metadata": {},
   "source": [
    "- Find the Eigenvalues and Eigenvectors of a matrix"
   ]
  },
  {
   "cell_type": "code",
   "execution_count": 32,
   "metadata": {},
   "outputs": [
    {
     "name": "stdout",
     "output_type": "stream",
     "text": [
      "[20.45147306+0.j          3.05149046+0.j         -2.25148176+1.16462107j\n",
      " -2.25148176-1.16462107j] \n",
      " [[ 0.47668449+0.j          0.15191922+0.j         -0.29890846-0.17979362j\n",
      "  -0.29890846+0.17979362j]\n",
      " [ 0.47478334+0.j          0.38292691+0.j         -0.37134796+0.40413518j\n",
      "  -0.37134796-0.40413518j]\n",
      " [ 0.65817039+0.j          0.04689876+0.j          0.56048687+0.j\n",
      "   0.56048687-0.j        ]\n",
      " [ 0.33788224+0.j         -0.90999343+0.j         -0.49646521-0.12837523j\n",
      "  -0.49646521+0.12837523j]]\n"
     ]
    }
   ],
   "source": [
    "np.linalg.eig(r)  # giving both Eigenvalues and Eigenvectors\n",
    "\n",
    "lam, v = np.linalg.eig(r)\n",
    "print(lam,'\\n', v)"
   ]
  },
  {
   "cell_type": "markdown",
   "metadata": {},
   "source": [
    "- Solve a System of Linear Equations \n",
    "$$\n",
    "A\\cdot x = b\n",
    "$$"
   ]
  },
  {
   "cell_type": "code",
   "execution_count": 38,
   "metadata": {},
   "outputs": [
    {
     "data": {
      "text/plain": [
       "array([1.00000000e+00, 1.11022302e-16])"
      ]
     },
     "execution_count": 38,
     "metadata": {},
     "output_type": "execute_result"
    }
   ],
   "source": [
    "a = np.array([[3,1], [2,2]])\n",
    "b = np.array([1, 0])\n",
    "x = np.linalg.solve(a, b)\n",
    "# np.dot(a, x)  checking if we find right roots"
   ]
  },
  {
   "cell_type": "markdown",
   "metadata": {},
   "source": [
    "- Find the Singular Value Decomposition (SVD) for a matrix $A$"
   ]
  },
  {
   "cell_type": "code",
   "execution_count": 42,
   "metadata": {},
   "outputs": [
    {
     "data": {
      "text/plain": [
       "array([[-0.74967818, -0.66180256],\n",
       "       [-0.66180256,  0.74967818]])"
      ]
     },
     "execution_count": 42,
     "metadata": {},
     "output_type": "execute_result"
    }
   ],
   "source": [
    "# np.linalg.svd(a) # U sigma V in order\n",
    "u, s, v = np.linalg.svd(a)\n"
   ]
  },
  {
   "cell_type": "markdown",
   "metadata": {},
   "source": [
    "- Explore also the Linear Algebra package of `scipy`: [https://docs.scipy.org/doc/scipy/reference/linalg.html](https://docs.scipy.org/doc/scipy/reference/linalg.html)"
   ]
  },
  {
   "cell_type": "markdown",
   "metadata": {},
   "source": [
    "# Working with Polynomials"
   ]
  },
  {
   "cell_type": "markdown",
   "metadata": {},
   "source": [
    "- Find the value of the polynomial \n",
    "$$\n",
    "P(x) = 2x^2 + 3x - 1\n",
    "$$\n",
    "at $x=2$"
   ]
  },
  {
   "cell_type": "code",
   "execution_count": 43,
   "metadata": {
    "scrolled": true
   },
   "outputs": [
    {
     "data": {
      "text/plain": [
       "-1"
      ]
     },
     "execution_count": 43,
     "metadata": {},
     "output_type": "execute_result"
    }
   ],
   "source": [
    "p = np.array([2, 3, -1])\n",
    "np.polyval(p, 0)   # second argument in what point we want to solve"
   ]
  },
  {
   "cell_type": "code",
   "execution_count": 44,
   "metadata": {},
   "outputs": [
    {
     "data": {
      "text/plain": [
       "[<matplotlib.lines.Line2D at 0x1adca118c88>]"
      ]
     },
     "execution_count": 44,
     "metadata": {},
     "output_type": "execute_result"
    },
    {
     "data": {
      "image/png": "[encoded data removed]",
      "text/plain": [
       "<Figure size 432x288 with 1 Axes>"
      ]
     },
     "metadata": {
      "needs_background": "light"
     },
     "output_type": "display_data"
    }
   ],
   "source": [
    "# ploting the graph \n",
    "x = np.linspace(-2, 2, 200)\n",
    "y = np.polyval(p, x)\n",
    "plt.plot(x, y)"
   ]
  },
  {
   "cell_type": "markdown",
   "metadata": {},
   "source": [
    "- Find the roots of the above polynomial"
   ]
  },
  {
   "cell_type": "code",
   "execution_count": 45,
   "metadata": {},
   "outputs": [
    {
     "data": {
      "text/plain": [
       "array([-1.78077641,  0.28077641])"
      ]
     },
     "execution_count": 45,
     "metadata": {},
     "output_type": "execute_result"
    }
   ],
   "source": [
    "np.roots(p)"
   ]
  },
  {
   "cell_type": "markdown",
   "metadata": {},
   "source": [
    "- Construct the Best fitting 1st, 2nd and 3rd order polynomials for the data\n",
    "$$\n",
    "(0,1); (2, -1); (3, 0); (-1, 4)\n",
    "$$\n",
    "Visualise the result."
   ]
  },
  {
   "cell_type": "code",
   "execution_count": 46,
   "metadata": {},
   "outputs": [],
   "source": [
    "x = np.array([0, 2, 3, -1])\n",
    "y = np.array([1, -1, 0, 4])"
   ]
  },
  {
   "cell_type": "code",
   "execution_count": 47,
   "metadata": {
    "scrolled": true
   },
   "outputs": [
    {
     "data": {
      "text/plain": [
       "<matplotlib.collections.PathCollection at 0x1add554cd48>"
      ]
     },
     "execution_count": 47,
     "metadata": {},
     "output_type": "execute_result"
    },
    {
     "data": {
      "image/png": "[encoded data removed]",
      "text/plain": [
       "<Figure size 432x288 with 1 Axes>"
      ]
     },
     "metadata": {
      "needs_background": "light"
     },
     "output_type": "display_data"
    }
   ],
   "source": [
    "plt.scatter(x, y)"
   ]
  },
  {
   "cell_type": "code",
   "execution_count": 53,
   "metadata": {},
   "outputs": [
    {
     "name": "stdout",
     "output_type": "stream",
     "text": [
      "[1.]\n",
      "[-1.  2.]\n",
      "[ 0.66666667 -2.33333333  1.        ]\n",
      "[ 3.52352581e-16  6.66666667e-01 -2.33333333e+00  1.00000000e+00]\n"
     ]
    }
   ],
   "source": [
    "print(np.polyfit(x, y, deg=0))\n",
    "print(np.polyfit(x, y, deg=1))\n",
    "print(np.polyfit(x, y, deg=2))\n",
    "print(np.polyfit(x, y, deg=3))"
   ]
  },
  {
   "cell_type": "markdown",
   "metadata": {},
   "source": [
    "- Construct the Least Squares Polynomial Fitting some data.Visualize the dataset and the fitting line"
   ]
  },
  {
   "cell_type": "markdown",
   "metadata": {},
   "source": [
    "- Explore other functions in [https://numpy.org/doc/stable/reference/routines.polynomials.html](https://numpy.org/doc/stable/reference/routines.polynomials.html)"
   ]
  },
  {
   "cell_type": "markdown",
   "metadata": {},
   "source": [
    "# Further possibilities of Numpy"
   ]
  },
  {
   "cell_type": "markdown",
   "metadata": {},
   "source": [
    "- Sort a ndarray"
   ]
  },
  {
   "cell_type": "markdown",
   "metadata": {},
   "source": [
    "- Use `argmax`, `argmin`, `where`, `extract` - see [https://numpy.org/doc/stable/reference/routines.sort.html](https://numpy.org/doc/stable/reference/routines.sort.html)"
   ]
  }
 ],
 "metadata": {
  "kernelspec": {
   "display_name": "Python 3",
   "language": "python",
   "name": "python3"
  },
  "language_info": {
   "codemirror_mode": {
    "name": "ipython",
    "version": 3
   },
   "file_extension": ".py",
   "mimetype": "text/x-python",
   "name": "python",
   "nbconvert_exporter": "python",
   "pygments_lexer": "ipython3",
   "version": "3.7.9"
  }
 },
 "nbformat": 4,
 "nbformat_minor": 4
}
