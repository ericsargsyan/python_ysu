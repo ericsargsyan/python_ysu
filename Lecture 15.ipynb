{
 "cells": [
  {
   "cell_type": "markdown",
   "metadata": {},
   "source": [
    "<center>\n",
    "    <h1 style=\"color:blue\"> YSU MMF, Python, Spring 2021 </h1>\n",
    "    <h2 style=\"color:blue\"> Lecture 15 </h2>\n",
    "</center>"
   ]
  },
  {
   "cell_type": "code",
   "execution_count": 2,
   "metadata": {},
   "outputs": [],
   "source": [
    "%config Completer.use_jedi = False"
   ]
  },
  {
   "cell_type": "code",
   "execution_count": 3,
   "metadata": {},
   "outputs": [],
   "source": [
    "import numpy as np"
   ]
  },
  {
   "cell_type": "code",
   "execution_count": 4,
   "metadata": {},
   "outputs": [],
   "source": [
    "import matplotlib.pyplot as plt"
   ]
  },
  {
   "cell_type": "markdown",
   "metadata": {},
   "source": [
    "- Learn working with `random` submodule: set seed\n",
    "\n",
    " See [https://numpy.org/doc/1.16/reference/routines.random.html](https://numpy.org/doc/1.16/reference/routines.random.html) and [https://numpy.org/doc/stable/reference/random/generator.html](https://numpy.org/doc/stable/reference/random/generator.html)\n",
    " "
   ]
  },
  {
   "cell_type": "markdown",
   "metadata": {},
   "source": [
    "- Generate a uniformly distributed random number in $[0,1)$"
   ]
  },
  {
   "cell_type": "code",
   "execution_count": 5,
   "metadata": {},
   "outputs": [
    {
     "data": {
      "text/plain": [
       "0.841227588381439"
      ]
     },
     "execution_count": 5,
     "metadata": {},
     "output_type": "execute_result"
    }
   ],
   "source": [
    "# np.random.uniform()\n",
    "rand = np.random.rand()\n",
    "rand"
   ]
  },
  {
   "cell_type": "markdown",
   "metadata": {},
   "source": [
    "- Generate 100 uniformly distributed random numbers in $[0,1)$"
   ]
  },
  {
   "cell_type": "code",
   "execution_count": 6,
   "metadata": {
    "scrolled": true
   },
   "outputs": [
    {
     "data": {
      "text/plain": [
       "array([0.70027859, 0.87193559, 0.71856681, 0.22259993, 0.87453601,\n",
       "       0.19256607, 0.73871832, 0.42871252, 0.1602779 , 0.71236907,\n",
       "       0.64779553, 0.54044687, 0.65212226, 0.13443468, 0.2726131 ,\n",
       "       0.95489914, 0.31430857, 0.44703905, 0.82400497, 0.20238138,\n",
       "       0.48249353, 0.5293314 , 0.82024764, 0.3452403 , 0.8276924 ,\n",
       "       0.16583763, 0.14211083, 0.71741832, 0.77048908, 0.56508811,\n",
       "       0.08161642, 0.33243398, 0.67489787, 0.13926756, 0.35039448,\n",
       "       0.36455465, 0.74876532, 0.64629696, 0.03349588, 0.23867135,\n",
       "       0.94752772, 0.82956012, 0.23583141, 0.83189141, 0.63052779,\n",
       "       0.03136352, 0.22891968, 0.08105517, 0.03277441, 0.83264492,\n",
       "       0.33481508, 0.72928453, 0.14747676, 0.0553271 , 0.98203234,\n",
       "       0.63726037, 0.74482761, 0.04792448, 0.27008424, 0.67142024,\n",
       "       0.509036  , 0.44924381, 0.9099565 , 0.54040966, 0.40739974,\n",
       "       0.71180025, 0.7012269 , 0.08550999, 0.48001919, 0.06240617,\n",
       "       0.17416575, 0.46510963, 0.59726521, 0.38971318, 0.88315787,\n",
       "       0.75167567, 0.03112423, 0.26741594, 0.0447273 , 0.57155766,\n",
       "       0.92734177, 0.54560698, 0.01659988, 0.10713607, 0.62421826,\n",
       "       0.29664724, 0.26355232, 0.57414768, 0.6833824 , 0.56361368,\n",
       "       0.7248758 , 0.28400493, 0.42038484, 0.11564719, 0.93340645,\n",
       "       0.041596  , 0.68464013, 0.48598949, 0.87171783, 0.65962737])"
      ]
     },
     "execution_count": 6,
     "metadata": {},
     "output_type": "execute_result"
    }
   ],
   "source": [
    "np.random.seed(1021)\n",
    "a = np.random.rand(100)\n",
    "a"
   ]
  },
  {
   "cell_type": "code",
   "execution_count": 7,
   "metadata": {
    "scrolled": true
   },
   "outputs": [
    {
     "data": {
      "text/plain": [
       "array([0.70027859, 0.87193559, 0.71856681, 0.22259993, 0.87453601,\n",
       "       0.19256607, 0.73871832, 0.42871252, 0.1602779 , 0.71236907])"
      ]
     },
     "execution_count": 7,
     "metadata": {},
     "output_type": "execute_result"
    }
   ],
   "source": [
    "a[:10]"
   ]
  },
  {
   "cell_type": "code",
   "execution_count": 8,
   "metadata": {},
   "outputs": [
    {
     "data": {
      "text/plain": [
       "(array([14., 10., 10.,  7.,  9.,  9., 12., 13., 10.,  6.]),\n",
       " array([0.01659988, 0.11314312, 0.20968637, 0.30622962, 0.40277286,\n",
       "        0.49931611, 0.59585936, 0.6924026 , 0.78894585, 0.8854891 ,\n",
       "        0.98203234]),\n",
       " <BarContainer object of 10 artists>)"
      ]
     },
     "execution_count": 8,
     "metadata": {},
     "output_type": "execute_result"
    },
    {
     "data": {
      "image/png": "[encoded data removed]",
      "text/plain": [
       "<Figure size 432x288 with 1 Axes>"
      ]
     },
     "metadata": {
      "needs_background": "light"
     },
     "output_type": "display_data"
    }
   ],
   "source": [
    "plt.hist(a)"
   ]
  },
  {
   "cell_type": "markdown",
   "metadata": {},
   "source": [
    "- Generate uniformly distributed random points in $[0,1)\\times [0,1)$"
   ]
  },
  {
   "cell_type": "code",
   "execution_count": 9,
   "metadata": {},
   "outputs": [
    {
     "data": {
      "text/plain": [
       "<matplotlib.collections.PathCollection at 0x207111d2208>"
      ]
     },
     "execution_count": 9,
     "metadata": {},
     "output_type": "execute_result"
    },
    {
     "data": {
      "image/png": "[encoded data removed]",
      "text/plain": [
       "<Figure size 432x288 with 1 Axes>"
      ]
     },
     "metadata": {
      "needs_background": "light"
     },
     "output_type": "display_data"
    }
   ],
   "source": [
    "x = np.random.rand(200)\n",
    "y = np.random.rand(200)\n",
    "plt.gca().set_aspect(\"equal\")\n",
    "plt.scatter(x, y)"
   ]
  },
  {
   "cell_type": "markdown",
   "metadata": {},
   "source": [
    "- Generate 100 random numbers from $\\mathcal{N}(0,1)$"
   ]
  },
  {
   "cell_type": "code",
   "execution_count": 10,
   "metadata": {},
   "outputs": [
    {
     "data": {
      "text/plain": [
       "array([-1.30343001,  0.11388402, -2.31958756,  1.80398433, -0.41727705,\n",
       "        0.62321078, -0.2222816 , -0.67208761, -1.5348944 , -1.79790524])"
      ]
     },
     "execution_count": 10,
     "metadata": {},
     "output_type": "execute_result"
    }
   ],
   "source": [
    "# np.random.normal()\n",
    "a = np.random.randn(50000)\n",
    "a[:10]"
   ]
  },
  {
   "cell_type": "code",
   "execution_count": 11,
   "metadata": {
    "scrolled": true
   },
   "outputs": [
    {
     "data": {
      "text/plain": [
       "<matplotlib.collections.PathCollection at 0x20711193708>"
      ]
     },
     "execution_count": 11,
     "metadata": {},
     "output_type": "execute_result"
    },
    {
     "data": {
      "image/png": "[encoded data removed]",
      "text/plain": [
       "<Figure size 432x288 with 1 Axes>"
      ]
     },
     "metadata": {
      "needs_background": "light"
     },
     "output_type": "display_data"
    }
   ],
   "source": [
    "plt.scatter(a, np.zeros_like(a))"
   ]
  },
  {
   "cell_type": "markdown",
   "metadata": {},
   "source": [
    " - Plot the histogram of generated uniform/standard normal random number arrays by using `hist` command of `matplotlib.pyplot`"
   ]
  },
  {
   "cell_type": "code",
   "execution_count": 12,
   "metadata": {},
   "outputs": [
    {
     "data": {
      "text/plain": [
       "(array([0.000e+00, 5.000e+00, 1.000e+01, 1.900e+01, 3.600e+01, 5.800e+01,\n",
       "        1.030e+02, 1.710e+02, 2.700e+02, 4.520e+02, 6.850e+02, 9.300e+02,\n",
       "        1.307e+03, 1.720e+03, 2.263e+03, 2.719e+03, 3.072e+03, 3.570e+03,\n",
       "        3.813e+03, 3.907e+03, 4.006e+03, 3.746e+03, 3.426e+03, 3.151e+03,\n",
       "        2.663e+03, 2.176e+03, 1.727e+03, 1.285e+03, 9.110e+02, 6.540e+02,\n",
       "        4.170e+02, 2.760e+02, 1.930e+02, 1.170e+02, 6.600e+01, 3.800e+01,\n",
       "        2.300e+01, 1.000e+01, 3.000e+00]),\n",
       " array([-4.00000000e+00, -3.80000000e+00, -3.60000000e+00, -3.40000000e+00,\n",
       "        -3.20000000e+00, -3.00000000e+00, -2.80000000e+00, -2.60000000e+00,\n",
       "        -2.40000000e+00, -2.20000000e+00, -2.00000000e+00, -1.80000000e+00,\n",
       "        -1.60000000e+00, -1.40000000e+00, -1.20000000e+00, -1.00000000e+00,\n",
       "        -8.00000000e-01, -6.00000000e-01, -4.00000000e-01, -2.00000000e-01,\n",
       "         3.55271368e-15,  2.00000000e-01,  4.00000000e-01,  6.00000000e-01,\n",
       "         8.00000000e-01,  1.00000000e+00,  1.20000000e+00,  1.40000000e+00,\n",
       "         1.60000000e+00,  1.80000000e+00,  2.00000000e+00,  2.20000000e+00,\n",
       "         2.40000000e+00,  2.60000000e+00,  2.80000000e+00,  3.00000000e+00,\n",
       "         3.20000000e+00,  3.40000000e+00,  3.60000000e+00,  3.80000000e+00]),\n",
       " <BarContainer object of 39 artists>)"
      ]
     },
     "execution_count": 12,
     "metadata": {},
     "output_type": "execute_result"
    },
    {
     "data": {
      "image/png": "[encoded data removed]",
      "text/plain": [
       "<Figure size 432x288 with 1 Axes>"
      ]
     },
     "metadata": {
      "needs_background": "light"
     },
     "output_type": "display_data"
    }
   ],
   "source": [
    "plt.hist(a, bins=np.arange(-4, 4, 0.2))"
   ]
  },
  {
   "cell_type": "markdown",
   "metadata": {},
   "source": [
    "- Generate 100 random numbers from the Binomial, Poisson Distributions with some parameters $ Poisson(2.5) $"
   ]
  },
  {
   "cell_type": "code",
   "execution_count": 13,
   "metadata": {
    "scrolled": true
   },
   "outputs": [],
   "source": [
    "a = np.random.poisson(lam=2.5, size=10000)"
   ]
  },
  {
   "cell_type": "code",
   "execution_count": 14,
   "metadata": {},
   "outputs": [
    {
     "data": {
      "text/plain": [
       "2.487"
      ]
     },
     "execution_count": 14,
     "metadata": {},
     "output_type": "execute_result"
    }
   ],
   "source": [
    "a.mean()"
   ]
  },
  {
   "cell_type": "code",
   "execution_count": 15,
   "metadata": {},
   "outputs": [
    {
     "data": {
      "text/plain": [
       "array([4, 2, 4, 3, 3, 1, 3, 2, 4, 3, 1, 3, 2, 5, 4, 1, 1, 3, 6, 3, 3, 4,\n",
       "       5, 4, 5, 3, 3, 3, 4, 5, 2, 3, 5, 2, 1, 5, 5, 4, 2, 3, 2, 4, 2, 5,\n",
       "       1, 4, 5, 5, 3, 3, 3, 4, 1, 4, 5, 4, 5, 4, 3, 3, 5, 3, 2, 4, 4, 5,\n",
       "       6, 5, 2, 4, 4, 5, 3, 3, 3, 5, 1, 3, 2, 3, 4, 5, 1, 2, 2, 6, 5, 4,\n",
       "       5, 2, 2, 4, 2, 6, 4, 6, 6, 4, 0, 3])"
      ]
     },
     "execution_count": 15,
     "metadata": {},
     "output_type": "execute_result"
    }
   ],
   "source": [
    "np.random.binomial(7, 0.5, 100)"
   ]
  },
  {
   "cell_type": "markdown",
   "metadata": {},
   "source": [
    "- Simulate coin tossing and dice throwing experiments with `choice`"
   ]
  },
  {
   "cell_type": "code",
   "execution_count": 16,
   "metadata": {},
   "outputs": [],
   "source": [
    "# coin"
   ]
  },
  {
   "cell_type": "code",
   "execution_count": 17,
   "metadata": {},
   "outputs": [
    {
     "data": {
      "text/plain": [
       "array(['H', 'H', 'T', 'H', 'H', 'T', 'H', 'T', 'H', 'H'], dtype='<U1')"
      ]
     },
     "execution_count": 17,
     "metadata": {},
     "output_type": "execute_result"
    }
   ],
   "source": [
    "np.random.choice(['H', 'T'], size=10, replace=True)"
   ]
  },
  {
   "cell_type": "code",
   "execution_count": 18,
   "metadata": {},
   "outputs": [],
   "source": [
    "a = np.random.choice([0, 1], size=1000, replace=True)"
   ]
  },
  {
   "cell_type": "code",
   "execution_count": 19,
   "metadata": {
    "scrolled": true
   },
   "outputs": [
    {
     "data": {
      "text/plain": [
       "505"
      ]
     },
     "execution_count": 19,
     "metadata": {},
     "output_type": "execute_result"
    }
   ],
   "source": [
    "np.sum(a)"
   ]
  },
  {
   "cell_type": "code",
   "execution_count": 20,
   "metadata": {},
   "outputs": [],
   "source": [
    "# dice"
   ]
  },
  {
   "cell_type": "code",
   "execution_count": 21,
   "metadata": {
    "scrolled": true
   },
   "outputs": [],
   "source": [
    "a = np.random.choice(range(1, 7), size=10000)"
   ]
  },
  {
   "cell_type": "code",
   "execution_count": 22,
   "metadata": {},
   "outputs": [
    {
     "data": {
      "text/plain": [
       "3.4719"
      ]
     },
     "execution_count": 22,
     "metadata": {},
     "output_type": "execute_result"
    }
   ],
   "source": [
    "np.mean(a)"
   ]
  },
  {
   "cell_type": "markdown",
   "metadata": {},
   "source": [
    "- Do a biased coin tossing experiment 1000 times, and calculate the proportion of Heads obtained. Increase the number of experiments. PLot the dependence on $n$"
   ]
  },
  {
   "cell_type": "code",
   "execution_count": 26,
   "metadata": {},
   "outputs": [
    {
     "data": {
      "text/plain": [
       "array([1, 1, 1, 1, 1, 1, 1, 0, 1, 1])"
      ]
     },
     "execution_count": 26,
     "metadata": {},
     "output_type": "execute_result"
    }
   ],
   "source": [
    "prop = []\n",
    "N = 1000\n",
    "\n",
    "res = np.random.choice([0, 1], size=N, p=[0.2, 0.8])\n",
    "res[:10]"
   ]
  },
  {
   "cell_type": "code",
   "execution_count": 25,
   "metadata": {},
   "outputs": [
    {
     "data": {
      "text/plain": [
       "0.781"
      ]
     },
     "execution_count": 25,
     "metadata": {},
     "output_type": "execute_result"
    }
   ],
   "source": [
    "prop = np.sum(res)/N\n",
    "prop"
   ]
  },
  {
   "cell_type": "code",
   "execution_count": 27,
   "metadata": {
    "scrolled": true
   },
   "outputs": [],
   "source": [
    "for n in range(1, N + 1):\n",
    "    s = np.sum(res[:n]) / n\n",
    "    prop.append(s)"
   ]
  },
  {
   "cell_type": "code",
   "execution_count": 28,
   "metadata": {},
   "outputs": [
    {
     "data": {
      "text/plain": [
       "[<matplotlib.lines.Line2D at 0x20711370c48>]"
      ]
     },
     "execution_count": 28,
     "metadata": {},
     "output_type": "execute_result"
    },
    {
     "data": {
      "image/png": "[encoded data removed]",
      "text/plain": [
       "<Figure size 432x288 with 1 Axes>"
      ]
     },
     "metadata": {
      "needs_background": "light"
     },
     "output_type": "display_data"
    }
   ],
   "source": [
    "plt.plot(prop)\n",
    "plt.plot(range(N), 0.8*np.ones(N))"
   ]
  },
  {
   "cell_type": "code",
   "execution_count": null,
   "metadata": {},
   "outputs": [],
   "source": []
  }
 ],
 "metadata": {
  "kernelspec": {
   "display_name": "Python 3",
   "language": "python",
   "name": "python3"
  },
  "language_info": {
   "codemirror_mode": {
    "name": "ipython",
    "version": 3
   },
   "file_extension": ".py",
   "mimetype": "text/x-python",
   "name": "python",
   "nbconvert_exporter": "python",
   "pygments_lexer": "ipython3",
   "version": "3.7.9"
  }
 },
 "nbformat": 4,
 "nbformat_minor": 4
}
