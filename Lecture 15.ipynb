{
 "cells": [
  {
   "cell_type": "markdown",
   "metadata": {},
   "source": [
    "<center>\n",
    "    <h1 style=\"color:blue\"> YSU MMF, Python, Spring 2021 </h1>\n",
    "    <h2 style=\"color:blue\"> Lecture 15 </h2>\n",
    "</center>"
   ]
  },
  {
   "cell_type": "code",
   "execution_count": 2,
   "metadata": {},
   "outputs": [],
   "source": [
    "%config Completer.use_jedi = False"
   ]
  },
  {
   "cell_type": "code",
   "execution_count": 3,
   "metadata": {},
   "outputs": [],
   "source": [
    "import numpy as np"
   ]
  },
  {
   "cell_type": "code",
   "execution_count": 4,
   "metadata": {},
   "outputs": [],
   "source": [
    "import matplotlib.pyplot as plt"
   ]
  },
  {
   "cell_type": "markdown",
   "metadata": {},
   "source": [
    "- Learn working with `random` submodule: set seed\n",
    "\n",
    " See [https://numpy.org/doc/1.16/reference/routines.random.html](https://numpy.org/doc/1.16/reference/routines.random.html) and [https://numpy.org/doc/stable/reference/random/generator.html](https://numpy.org/doc/stable/reference/random/generator.html)\n",
    " "
   ]
  },
  {
   "cell_type": "markdown",
   "metadata": {},
   "source": [
    "- Generate a uniformly distributed random number in $[0,1)$"
   ]
  },
  {
   "cell_type": "code",
   "execution_count": 14,
   "metadata": {},
   "outputs": [
    {
     "data": {
      "text/plain": [
       "0.8928568216470643"
      ]
     },
     "execution_count": 14,
     "metadata": {},
     "output_type": "execute_result"
    }
   ],
   "source": [
    "# np.random.uniform()\n",
    "rand = np.random.rand()\n",
    "rand"
   ]
  },
  {
   "cell_type": "markdown",
   "metadata": {},
   "source": [
    "- Generate 100 uniformly distributed random numbers in $[0,1)$"
   ]
  },
  {
   "cell_type": "code",
   "execution_count": 48,
   "metadata": {
    "scrolled": true
   },
   "outputs": [
    {
     "data": {
      "text/plain": [
       "array([0.70027859, 0.87193559, 0.71856681, 0.22259993, 0.87453601,\n",
       "       0.19256607, 0.73871832, 0.42871252, 0.1602779 , 0.71236907,\n",
       "       0.64779553, 0.54044687, 0.65212226, 0.13443468, 0.2726131 ,\n",
       "       0.95489914, 0.31430857, 0.44703905, 0.82400497, 0.20238138,\n",
       "       0.48249353, 0.5293314 , 0.82024764, 0.3452403 , 0.8276924 ,\n",
       "       0.16583763, 0.14211083, 0.71741832, 0.77048908, 0.56508811,\n",
       "       0.08161642, 0.33243398, 0.67489787, 0.13926756, 0.35039448,\n",
       "       0.36455465, 0.74876532, 0.64629696, 0.03349588, 0.23867135,\n",
       "       0.94752772, 0.82956012, 0.23583141, 0.83189141, 0.63052779,\n",
       "       0.03136352, 0.22891968, 0.08105517, 0.03277441, 0.83264492,\n",
       "       0.33481508, 0.72928453, 0.14747676, 0.0553271 , 0.98203234,\n",
       "       0.63726037, 0.74482761, 0.04792448, 0.27008424, 0.67142024,\n",
       "       0.509036  , 0.44924381, 0.9099565 , 0.54040966, 0.40739974,\n",
       "       0.71180025, 0.7012269 , 0.08550999, 0.48001919, 0.06240617,\n",
       "       0.17416575, 0.46510963, 0.59726521, 0.38971318, 0.88315787,\n",
       "       0.75167567, 0.03112423, 0.26741594, 0.0447273 , 0.57155766,\n",
       "       0.92734177, 0.54560698, 0.01659988, 0.10713607, 0.62421826,\n",
       "       0.29664724, 0.26355232, 0.57414768, 0.6833824 , 0.56361368,\n",
       "       0.7248758 , 0.28400493, 0.42038484, 0.11564719, 0.93340645,\n",
       "       0.041596  , 0.68464013, 0.48598949, 0.87171783, 0.65962737])"
      ]
     },
     "execution_count": 48,
     "metadata": {},
     "output_type": "execute_result"
    }
   ],
   "source": [
    "np.random.seed(1021)\n",
    "a = np.random.rand(100)\n",
    "a"
   ]
  },
  {
   "cell_type": "code",
   "execution_count": 49,
   "metadata": {
    "scrolled": true
   },
   "outputs": [
    {
     "data": {
      "text/plain": [
       "array([0.70027859, 0.87193559, 0.71856681, 0.22259993, 0.87453601,\n",
       "       0.19256607, 0.73871832, 0.42871252, 0.1602779 , 0.71236907])"
      ]
     },
     "execution_count": 49,
     "metadata": {},
     "output_type": "execute_result"
    }
   ],
   "source": [
    "a[:10]"
   ]
  },
  {
   "cell_type": "code",
   "execution_count": 50,
   "metadata": {},
   "outputs": [
    {
     "data": {
      "text/plain": [
       "(array([14., 10., 10.,  7.,  9.,  9., 12., 13., 10.,  6.]),\n",
       " array([0.01659988, 0.11314312, 0.20968637, 0.30622962, 0.40277286,\n",
       "        0.49931611, 0.59585936, 0.6924026 , 0.78894585, 0.8854891 ,\n",
       "        0.98203234]),\n",
       " <BarContainer object of 10 artists>)"
      ]
     },
     "execution_count": 50,
     "metadata": {},
     "output_type": "execute_result"
    },
    {
     "data": {
      "image/png": "[encoded data removed]",
      "text/plain": [
       "<Figure size 432x288 with 1 Axes>"
      ]
     },
     "metadata": {
      "needs_background": "light"
     },
     "output_type": "display_data"
    }
   ],
   "source": [
    "plt.hist(a)"
   ]
  },
  {
   "cell_type": "markdown",
   "metadata": {},
   "source": [
    "- Generate uniformly distributed random points in $[0,1)\\times [0,1)$"
   ]
  },
  {
   "cell_type": "code",
   "execution_count": 55,
   "metadata": {},
   "outputs": [
    {
     "data": {
      "text/plain": [
       "<matplotlib.collections.PathCollection at 0x1e75fa742c8>"
      ]
     },
     "execution_count": 55,
     "metadata": {},
     "output_type": "execute_result"
    },
    {
     "data": {
      "image/png": "[encoded data removed]",
      "text/plain": [
       "<Figure size 432x288 with 1 Axes>"
      ]
     },
     "metadata": {
      "needs_background": "light"
     },
     "output_type": "display_data"
    }
   ],
   "source": [
    "x = np.random.rand(200)\n",
    "y = np.random.rand(200)\n",
    "plt.gca().set_aspect(\"equal\")\n",
    "plt.scatter(x, y)"
   ]
  },
  {
   "cell_type": "markdown",
   "metadata": {},
   "source": [
    "- Generate 100 random numbers from $\\mathcal{N}(0,1)$"
   ]
  },
  {
   "cell_type": "code",
   "execution_count": 76,
   "metadata": {},
   "outputs": [
    {
     "data": {
      "text/plain": [
       "array([-0.67580253,  0.38525895,  0.71635989, -0.23643306, -0.14351404,\n",
       "       -0.10394272, -1.0168714 , -0.19112803, -0.50169118,  0.85831347])"
      ]
     },
     "execution_count": 76,
     "metadata": {},
     "output_type": "execute_result"
    }
   ],
   "source": [
    "# np.random.normal()\n",
    "a = np.random.randn(50000)\n",
    "a[:10]"
   ]
  },
  {
   "cell_type": "code",
   "execution_count": 77,
   "metadata": {
    "scrolled": true
   },
   "outputs": [
    {
     "data": {
      "text/plain": [
       "<matplotlib.collections.PathCollection at 0x1e75fc1ef88>"
      ]
     },
     "execution_count": 77,
     "metadata": {},
     "output_type": "execute_result"
    },
    {
     "data": {
      "image/png": "[encoded data removed]",
      "text/plain": [
       "<Figure size 432x288 with 1 Axes>"
      ]
     },
     "metadata": {
      "needs_background": "light"
     },
     "output_type": "display_data"
    }
   ],
   "source": [
    "plt.scatter(a, np.zeros_like(a))"
   ]
  },
  {
   "cell_type": "markdown",
   "metadata": {},
   "source": [
    " - Plot the histogram of generated uniform/standard normal random number arrays by using `hist` command of `matplotlib.pyplot`"
   ]
  },
  {
   "cell_type": "code",
   "execution_count": 79,
   "metadata": {},
   "outputs": [
    {
     "data": {
      "text/plain": [
       "(array([0.000e+00, 6.000e+00, 6.000e+00, 1.400e+01, 3.600e+01, 6.000e+01,\n",
       "        9.500e+01, 1.800e+02, 2.810e+02, 4.250e+02, 6.760e+02, 9.420e+02,\n",
       "        1.293e+03, 1.702e+03, 2.222e+03, 2.742e+03, 3.056e+03, 3.566e+03,\n",
       "        3.791e+03, 4.020e+03, 3.953e+03, 3.758e+03, 3.402e+03, 3.103e+03,\n",
       "        2.687e+03, 2.180e+03, 1.748e+03, 1.271e+03, 9.400e+02, 6.860e+02,\n",
       "        4.290e+02, 2.910e+02, 1.840e+02, 1.140e+02, 6.800e+01, 3.800e+01,\n",
       "        1.800e+01, 1.200e+01, 2.000e+00]),\n",
       " array([-4.00000000e+00, -3.80000000e+00, -3.60000000e+00, -3.40000000e+00,\n",
       "        -3.20000000e+00, -3.00000000e+00, -2.80000000e+00, -2.60000000e+00,\n",
       "        -2.40000000e+00, -2.20000000e+00, -2.00000000e+00, -1.80000000e+00,\n",
       "        -1.60000000e+00, -1.40000000e+00, -1.20000000e+00, -1.00000000e+00,\n",
       "        -8.00000000e-01, -6.00000000e-01, -4.00000000e-01, -2.00000000e-01,\n",
       "         3.55271368e-15,  2.00000000e-01,  4.00000000e-01,  6.00000000e-01,\n",
       "         8.00000000e-01,  1.00000000e+00,  1.20000000e+00,  1.40000000e+00,\n",
       "         1.60000000e+00,  1.80000000e+00,  2.00000000e+00,  2.20000000e+00,\n",
       "         2.40000000e+00,  2.60000000e+00,  2.80000000e+00,  3.00000000e+00,\n",
       "         3.20000000e+00,  3.40000000e+00,  3.60000000e+00,  3.80000000e+00]),\n",
       " <BarContainer object of 39 artists>)"
      ]
     },
     "execution_count": 79,
     "metadata": {},
     "output_type": "execute_result"
    },
    {
     "data": {
      "image/png": "[encoded data removed]",
      "text/plain": [
       "<Figure size 432x288 with 1 Axes>"
      ]
     },
     "metadata": {
      "needs_background": "light"
     },
     "output_type": "display_data"
    }
   ],
   "source": [
    "plt.hist(a, bins=np.arange(-4, 4, 0.2))"
   ]
  },
  {
   "cell_type": "markdown",
   "metadata": {},
   "source": [
    "- Generate 100 random numbers from the Binomial, Poisson Distributions with some parameters $ Poisson(2.5) $"
   ]
  },
  {
   "cell_type": "code",
   "execution_count": 82,
   "metadata": {
    "scrolled": true
   },
   "outputs": [],
   "source": [
    "a = np.random.poisson(lam=2.5, size=10000)"
   ]
  },
  {
   "cell_type": "code",
   "execution_count": 83,
   "metadata": {},
   "outputs": [
    {
     "data": {
      "text/plain": [
       "2.469"
      ]
     },
     "execution_count": 83,
     "metadata": {},
     "output_type": "execute_result"
    }
   ],
   "source": [
    "a.mean()"
   ]
  },
  {
   "cell_type": "code",
   "execution_count": 85,
   "metadata": {},
   "outputs": [
    {
     "data": {
      "text/plain": [
       "array([4, 3, 2, 2, 3, 4, 2, 3, 5, 4, 6, 3, 5, 1, 4, 4, 2, 4, 4, 3, 4, 5,\n",
       "       4, 3, 5, 3, 2, 2, 3, 3, 2, 5, 2, 3, 5, 5, 3, 3, 2, 4, 4, 5, 3, 3,\n",
       "       4, 6, 3, 5, 2, 2, 2, 4, 6, 1, 3, 3, 3, 3, 4, 4, 4, 5, 4, 3, 5, 2,\n",
       "       4, 0, 3, 4, 3, 4, 1, 6, 4, 4, 2, 2, 2, 2, 5, 3, 5, 5, 5, 3, 4, 3,\n",
       "       4, 4, 3, 2, 4, 3, 4, 2, 1, 4, 3, 5])"
      ]
     },
     "execution_count": 85,
     "metadata": {},
     "output_type": "execute_result"
    }
   ],
   "source": [
    "np.random.binomial(7, 0.5, 100)"
   ]
  },
  {
   "cell_type": "markdown",
   "metadata": {},
   "source": [
    "- Simulate coin tossing and dice throwing experiments with `choice`"
   ]
  },
  {
   "cell_type": "code",
   "execution_count": 92,
   "metadata": {},
   "outputs": [],
   "source": [
    "# coin"
   ]
  },
  {
   "cell_type": "code",
   "execution_count": 93,
   "metadata": {},
   "outputs": [
    {
     "data": {
      "text/plain": [
       "array(['H', 'H', 'T', 'H', 'H', 'T', 'T', 'T', 'T', 'H'], dtype='<U1')"
      ]
     },
     "execution_count": 93,
     "metadata": {},
     "output_type": "execute_result"
    }
   ],
   "source": [
    "np.random.choice(['H', 'T'], size=10, replace=True)"
   ]
  },
  {
   "cell_type": "code",
   "execution_count": 94,
   "metadata": {},
   "outputs": [],
   "source": [
    "a = np.random.choice([0, 1], size=1000, replace=True)"
   ]
  },
  {
   "cell_type": "code",
   "execution_count": 95,
   "metadata": {
    "scrolled": true
   },
   "outputs": [
    {
     "data": {
      "text/plain": [
       "504"
      ]
     },
     "execution_count": 95,
     "metadata": {},
     "output_type": "execute_result"
    }
   ],
   "source": [
    "np.sum(a)"
   ]
  },
  {
   "cell_type": "code",
   "execution_count": 96,
   "metadata": {},
   "outputs": [],
   "source": [
    "# dice"
   ]
  },
  {
   "cell_type": "code",
   "execution_count": 99,
   "metadata": {
    "scrolled": true
   },
   "outputs": [],
   "source": [
    "a = np.random.choice(range(1, 7), size=10000)"
   ]
  },
  {
   "cell_type": "code",
   "execution_count": 100,
   "metadata": {},
   "outputs": [
    {
     "data": {
      "text/plain": [
       "3.5307"
      ]
     },
     "execution_count": 100,
     "metadata": {},
     "output_type": "execute_result"
    }
   ],
   "source": [
    "np.mean(a)"
   ]
  },
  {
   "cell_type": "markdown",
   "metadata": {},
   "source": [
    "- Do a biased coin tossing experiment 1000 times, and calculate the proportion of Heads obtained. Increase the number of experiments. PLot the dependence on $n$"
   ]
  },
  {
   "cell_type": "code",
   "execution_count": 115,
   "metadata": {},
   "outputs": [
    {
     "data": {
      "text/plain": [
       "array([1, 1, 1, 1, 1, 1, 1, 1, 1, 1])"
      ]
     },
     "execution_count": 115,
     "metadata": {},
     "output_type": "execute_result"
    }
   ],
   "source": [
    "prop = []\n",
    "N = 1000\n",
    "\n",
    "res = np.random.choice([0, 1], size=N, p=[0.2, 0.8])\n",
    "res[:10]"
   ]
  },
  {
   "cell_type": "code",
   "execution_count": 106,
   "metadata": {},
   "outputs": [
    {
     "data": {
      "text/plain": [
       "0.798"
      ]
     },
     "execution_count": 106,
     "metadata": {},
     "output_type": "execute_result"
    }
   ],
   "source": [
    "prop = np.sum(res)/N\n",
    "prop"
   ]
  },
  {
   "cell_type": "code",
   "execution_count": 116,
   "metadata": {
    "scrolled": true
   },
   "outputs": [
    {
     "data": {
      "text/plain": [
       "[1.0,\n",
       " 1.0,\n",
       " 1.0,\n",
       " 1.0,\n",
       " 1.0,\n",
       " 1.0,\n",
       " 1.0,\n",
       " 1.0,\n",
       " 1.0,\n",
       " 1.0,\n",
       " 0.9090909090909091,\n",
       " 0.9166666666666666,\n",
       " 0.9230769230769231,\n",
       " 0.9285714285714286,\n",
       " 0.8666666666666667,\n",
       " 0.8125,\n",
       " 0.8235294117647058,\n",
       " 0.7777777777777778,\n",
       " 0.7894736842105263,\n",
       " 0.75,\n",
       " 0.7619047619047619,\n",
       " 0.7727272727272727,\n",
       " 0.782608695652174,\n",
       " 0.75,\n",
       " 0.72,\n",
       " 0.6923076923076923,\n",
       " 0.7037037037037037,\n",
       " 0.7142857142857143,\n",
       " 0.7241379310344828,\n",
       " 0.7333333333333333,\n",
       " 0.7419354838709677,\n",
       " 0.75,\n",
       " 0.7272727272727273,\n",
       " 0.7352941176470589,\n",
       " 0.7428571428571429,\n",
       " 0.7222222222222222,\n",
       " 0.7297297297297297,\n",
       " 0.7368421052631579,\n",
       " 0.7435897435897436,\n",
       " 0.75,\n",
       " 0.7560975609756098,\n",
       " 0.7619047619047619,\n",
       " 0.7441860465116279,\n",
       " 0.7272727272727273,\n",
       " 0.7333333333333333,\n",
       " 0.7391304347826086,\n",
       " 0.7446808510638298,\n",
       " 0.75,\n",
       " 0.7551020408163265,\n",
       " 0.76,\n",
       " 0.7647058823529411,\n",
       " 0.7692307692307693,\n",
       " 0.7735849056603774,\n",
       " 0.7777777777777778,\n",
       " 0.7636363636363637,\n",
       " 0.7678571428571429,\n",
       " 0.7719298245614035,\n",
       " 0.7758620689655172,\n",
       " 0.7796610169491526,\n",
       " 0.7833333333333333,\n",
       " 0.7704918032786885,\n",
       " 0.7741935483870968,\n",
       " 0.7777777777777778,\n",
       " 0.78125,\n",
       " 0.7846153846153846,\n",
       " 0.7727272727272727,\n",
       " 0.7761194029850746,\n",
       " 0.7794117647058824,\n",
       " 0.782608695652174,\n",
       " 0.7857142857142857,\n",
       " 0.7746478873239436,\n",
       " 0.7777777777777778,\n",
       " 0.7808219178082192,\n",
       " 0.7837837837837838,\n",
       " 0.7866666666666666,\n",
       " 0.7894736842105263,\n",
       " 0.7922077922077922,\n",
       " 0.782051282051282,\n",
       " 0.7848101265822784,\n",
       " 0.775,\n",
       " 0.7777777777777778,\n",
       " 0.7804878048780488,\n",
       " 0.7831325301204819,\n",
       " 0.7738095238095238,\n",
       " 0.7764705882352941,\n",
       " 0.7790697674418605,\n",
       " 0.7701149425287356,\n",
       " 0.7727272727272727,\n",
       " 0.7640449438202247,\n",
       " 0.7666666666666667,\n",
       " 0.7692307692307693,\n",
       " 0.7717391304347826,\n",
       " 0.7634408602150538,\n",
       " 0.7553191489361702,\n",
       " 0.7473684210526316,\n",
       " 0.75,\n",
       " 0.7422680412371134,\n",
       " 0.7346938775510204,\n",
       " 0.7373737373737373,\n",
       " 0.74,\n",
       " 0.7425742574257426,\n",
       " 0.7450980392156863,\n",
       " 0.7475728155339806,\n",
       " 0.75,\n",
       " 0.7523809523809524,\n",
       " 0.7452830188679245,\n",
       " 0.7476635514018691,\n",
       " 0.75,\n",
       " 0.7431192660550459,\n",
       " 0.7454545454545455,\n",
       " 0.7477477477477478,\n",
       " 0.75,\n",
       " 0.7522123893805309,\n",
       " 0.7456140350877193,\n",
       " 0.7391304347826086,\n",
       " 0.7413793103448276,\n",
       " 0.7435897435897436,\n",
       " 0.7372881355932204,\n",
       " 0.7394957983193278,\n",
       " 0.7416666666666667,\n",
       " 0.743801652892562,\n",
       " 0.7459016393442623,\n",
       " 0.7479674796747967,\n",
       " 0.75,\n",
       " 0.752,\n",
       " 0.753968253968254,\n",
       " 0.7559055118110236,\n",
       " 0.7578125,\n",
       " 0.7596899224806202,\n",
       " 0.7615384615384615,\n",
       " 0.7633587786259542,\n",
       " 0.7651515151515151,\n",
       " 0.7593984962406015,\n",
       " 0.7611940298507462,\n",
       " 0.762962962962963,\n",
       " 0.7647058823529411,\n",
       " 0.7664233576642335,\n",
       " 0.7681159420289855,\n",
       " 0.7697841726618705,\n",
       " 0.7714285714285715,\n",
       " 0.7730496453900709,\n",
       " 0.7746478873239436,\n",
       " 0.7762237762237763,\n",
       " 0.7708333333333334,\n",
       " 0.7655172413793103,\n",
       " 0.7671232876712328,\n",
       " 0.7687074829931972,\n",
       " 0.7702702702702703,\n",
       " 0.7718120805369127,\n",
       " 0.7733333333333333,\n",
       " 0.7748344370860927,\n",
       " 0.7763157894736842,\n",
       " 0.7777777777777778,\n",
       " 0.7792207792207793,\n",
       " 0.7806451612903226,\n",
       " 0.782051282051282,\n",
       " 0.7834394904458599,\n",
       " 0.7848101265822784,\n",
       " 0.7861635220125787,\n",
       " 0.7875,\n",
       " 0.7888198757763976,\n",
       " 0.7901234567901234,\n",
       " 0.7914110429447853,\n",
       " 0.7926829268292683,\n",
       " 0.7878787878787878,\n",
       " 0.7891566265060241,\n",
       " 0.7844311377245509,\n",
       " 0.7857142857142857,\n",
       " 0.7869822485207101,\n",
       " 0.788235294117647,\n",
       " 0.783625730994152,\n",
       " 0.7848837209302325,\n",
       " 0.7803468208092486,\n",
       " 0.7816091954022989,\n",
       " 0.7828571428571428,\n",
       " 0.7840909090909091,\n",
       " 0.7853107344632768,\n",
       " 0.7865168539325843,\n",
       " 0.7877094972067039,\n",
       " 0.7833333333333333,\n",
       " 0.7845303867403315,\n",
       " 0.7802197802197802,\n",
       " 0.7814207650273224,\n",
       " 0.782608695652174,\n",
       " 0.7837837837837838,\n",
       " 0.7795698924731183,\n",
       " 0.7807486631016043,\n",
       " 0.7819148936170213,\n",
       " 0.783068783068783,\n",
       " 0.7842105263157895,\n",
       " 0.7853403141361257,\n",
       " 0.7864583333333334,\n",
       " 0.7875647668393783,\n",
       " 0.788659793814433,\n",
       " 0.7897435897435897,\n",
       " 0.7908163265306123,\n",
       " 0.7918781725888325,\n",
       " 0.7929292929292929,\n",
       " 0.7939698492462312,\n",
       " 0.795,\n",
       " 0.7910447761194029,\n",
       " 0.7920792079207921,\n",
       " 0.7931034482758621,\n",
       " 0.7941176470588235,\n",
       " 0.7902439024390244,\n",
       " 0.7912621359223301,\n",
       " 0.7922705314009661,\n",
       " 0.7884615384615384,\n",
       " 0.784688995215311,\n",
       " 0.780952380952381,\n",
       " 0.7819905213270142,\n",
       " 0.7830188679245284,\n",
       " 0.7793427230046949,\n",
       " 0.780373831775701,\n",
       " 0.7767441860465116,\n",
       " 0.7777777777777778,\n",
       " 0.7788018433179723,\n",
       " 0.7798165137614679,\n",
       " 0.7808219178082192,\n",
       " 0.7818181818181819,\n",
       " 0.7828054298642534,\n",
       " 0.7837837837837838,\n",
       " 0.7847533632286996,\n",
       " 0.7857142857142857,\n",
       " 0.7866666666666666,\n",
       " 0.7831858407079646,\n",
       " 0.7841409691629956,\n",
       " 0.7850877192982456,\n",
       " 0.7860262008733624,\n",
       " 0.7869565217391304,\n",
       " 0.7835497835497836,\n",
       " 0.7844827586206896,\n",
       " 0.7811158798283262,\n",
       " 0.782051282051282,\n",
       " 0.7829787234042553,\n",
       " 0.7838983050847458,\n",
       " 0.7848101265822784,\n",
       " 0.7857142857142857,\n",
       " 0.7866108786610879,\n",
       " 0.7833333333333333,\n",
       " 0.7842323651452282,\n",
       " 0.7851239669421488,\n",
       " 0.7860082304526749,\n",
       " 0.7868852459016393,\n",
       " 0.7877551020408163,\n",
       " 0.7886178861788617,\n",
       " 0.7854251012145749,\n",
       " 0.782258064516129,\n",
       " 0.7791164658634538,\n",
       " 0.78,\n",
       " 0.7808764940239044,\n",
       " 0.7817460317460317,\n",
       " 0.782608695652174,\n",
       " 0.7795275590551181,\n",
       " 0.7803921568627451,\n",
       " 0.78125,\n",
       " 0.7821011673151751,\n",
       " 0.7829457364341085,\n",
       " 0.7799227799227799,\n",
       " 0.7769230769230769,\n",
       " 0.7777777777777778,\n",
       " 0.7786259541984732,\n",
       " 0.779467680608365,\n",
       " 0.7803030303030303,\n",
       " 0.7773584905660378,\n",
       " 0.7781954887218046,\n",
       " 0.7752808988764045,\n",
       " 0.7761194029850746,\n",
       " 0.7769516728624535,\n",
       " 0.7777777777777778,\n",
       " 0.7785977859778598,\n",
       " 0.7794117647058824,\n",
       " 0.7802197802197802,\n",
       " 0.781021897810219,\n",
       " 0.7818181818181819,\n",
       " 0.782608695652174,\n",
       " 0.7833935018050542,\n",
       " 0.7841726618705036,\n",
       " 0.7849462365591398,\n",
       " 0.7857142857142857,\n",
       " 0.7864768683274022,\n",
       " 0.7872340425531915,\n",
       " 0.7879858657243817,\n",
       " 0.7852112676056338,\n",
       " 0.7859649122807018,\n",
       " 0.7867132867132867,\n",
       " 0.7874564459930313,\n",
       " 0.7881944444444444,\n",
       " 0.7889273356401384,\n",
       " 0.7862068965517242,\n",
       " 0.7869415807560137,\n",
       " 0.7876712328767124,\n",
       " 0.78839590443686,\n",
       " 0.7891156462585034,\n",
       " 0.7898305084745763,\n",
       " 0.7905405405405406,\n",
       " 0.7878787878787878,\n",
       " 0.7885906040268457,\n",
       " 0.7892976588628763,\n",
       " 0.79,\n",
       " 0.7906976744186046,\n",
       " 0.7880794701986755,\n",
       " 0.7887788778877888,\n",
       " 0.7894736842105263,\n",
       " 0.7901639344262295,\n",
       " 0.7908496732026143,\n",
       " 0.7882736156351792,\n",
       " 0.788961038961039,\n",
       " 0.7896440129449838,\n",
       " 0.7870967741935484,\n",
       " 0.7877813504823151,\n",
       " 0.7884615384615384,\n",
       " 0.7891373801916933,\n",
       " 0.7866242038216561,\n",
       " 0.7873015873015873,\n",
       " 0.7879746835443038,\n",
       " 0.7854889589905363,\n",
       " 0.7830188679245284,\n",
       " 0.7836990595611285,\n",
       " 0.784375,\n",
       " 0.7819314641744548,\n",
       " 0.7795031055900621,\n",
       " 0.7801857585139319,\n",
       " 0.7808641975308642,\n",
       " 0.7815384615384615,\n",
       " 0.7791411042944786,\n",
       " 0.7798165137614679,\n",
       " 0.7804878048780488,\n",
       " 0.7811550151975684,\n",
       " 0.7818181818181819,\n",
       " 0.7824773413897281,\n",
       " 0.7831325301204819,\n",
       " 0.7837837837837838,\n",
       " 0.7844311377245509,\n",
       " 0.7820895522388059,\n",
       " 0.7827380952380952,\n",
       " 0.7833827893175074,\n",
       " 0.7840236686390533,\n",
       " 0.7846607669616519,\n",
       " 0.7852941176470588,\n",
       " 0.7859237536656891,\n",
       " 0.783625730994152,\n",
       " 0.7842565597667639,\n",
       " 0.7848837209302325,\n",
       " 0.782608695652174,\n",
       " 0.7832369942196532,\n",
       " 0.7838616714697406,\n",
       " 0.7844827586206896,\n",
       " 0.7822349570200573,\n",
       " 0.7828571428571428,\n",
       " 0.7834757834757835,\n",
       " 0.7840909090909091,\n",
       " 0.7847025495750708,\n",
       " 0.7824858757062146,\n",
       " 0.7830985915492957,\n",
       " 0.7837078651685393,\n",
       " 0.7843137254901961,\n",
       " 0.7849162011173184,\n",
       " 0.7855153203342619,\n",
       " 0.7861111111111111,\n",
       " 0.7867036011080333,\n",
       " 0.787292817679558,\n",
       " 0.7878787878787878,\n",
       " 0.7884615384615384,\n",
       " 0.7890410958904109,\n",
       " 0.7896174863387978,\n",
       " 0.7901907356948229,\n",
       " 0.7907608695652174,\n",
       " 0.7913279132791328,\n",
       " 0.7918918918918919,\n",
       " 0.7924528301886793,\n",
       " 0.793010752688172,\n",
       " 0.7935656836461126,\n",
       " 0.7941176470588235,\n",
       " 0.792,\n",
       " 0.7898936170212766,\n",
       " 0.7904509283819628,\n",
       " 0.791005291005291,\n",
       " 0.7915567282321899,\n",
       " 0.7894736842105263,\n",
       " 0.7900262467191601,\n",
       " 0.7879581151832461,\n",
       " 0.7885117493472585,\n",
       " 0.7890625,\n",
       " 0.7896103896103897,\n",
       " 0.7875647668393783,\n",
       " 0.7881136950904393,\n",
       " 0.788659793814433,\n",
       " 0.7892030848329049,\n",
       " 0.7871794871794872,\n",
       " 0.7877237851662404,\n",
       " 0.7857142857142857,\n",
       " 0.7862595419847328,\n",
       " 0.7868020304568528,\n",
       " 0.7848101265822784,\n",
       " 0.7853535353535354,\n",
       " 0.7858942065491183,\n",
       " 0.7864321608040201,\n",
       " 0.7869674185463659,\n",
       " 0.7875,\n",
       " 0.7880299251870324,\n",
       " 0.7860696517412935,\n",
       " 0.7866004962779156,\n",
       " 0.7871287128712872,\n",
       " 0.7876543209876543,\n",
       " 0.7881773399014779,\n",
       " 0.7862407862407862,\n",
       " 0.7867647058823529,\n",
       " 0.7872860635696821,\n",
       " 0.7878048780487805,\n",
       " 0.7858880778588808,\n",
       " 0.7864077669902912,\n",
       " 0.7869249394673123,\n",
       " 0.7874396135265701,\n",
       " 0.7879518072289157,\n",
       " 0.7884615384615384,\n",
       " 0.7889688249400479,\n",
       " 0.7870813397129187,\n",
       " 0.7875894988066826,\n",
       " 0.7857142857142857,\n",
       " 0.7862232779097387,\n",
       " 0.7867298578199052,\n",
       " 0.7848699763593381,\n",
       " 0.785377358490566,\n",
       " 0.7858823529411765,\n",
       " 0.7863849765258216,\n",
       " 0.7868852459016393,\n",
       " 0.7873831775700935,\n",
       " 0.7878787878787878,\n",
       " 0.7883720930232558,\n",
       " 0.7888631090487239,\n",
       " 0.7893518518518519,\n",
       " 0.789838337182448,\n",
       " 0.7903225806451613,\n",
       " 0.7908045977011494,\n",
       " 0.7912844036697247,\n",
       " 0.7917620137299771,\n",
       " 0.7922374429223744,\n",
       " 0.7927107061503417,\n",
       " 0.7931818181818182,\n",
       " 0.7936507936507936,\n",
       " 0.7941176470588235,\n",
       " 0.7945823927765236,\n",
       " 0.795045045045045,\n",
       " 0.7932584269662921,\n",
       " 0.7914798206278026,\n",
       " 0.7919463087248322,\n",
       " 0.7924107142857143,\n",
       " 0.7928730512249443,\n",
       " 0.7933333333333333,\n",
       " 0.7915742793791575,\n",
       " 0.7920353982300885,\n",
       " 0.7924944812362031,\n",
       " 0.7929515418502202,\n",
       " 0.7934065934065934,\n",
       " 0.7916666666666666,\n",
       " 0.7921225382932167,\n",
       " 0.7925764192139738,\n",
       " 0.7930283224400871,\n",
       " 0.7934782608695652,\n",
       " 0.7917570498915402,\n",
       " 0.7922077922077922,\n",
       " 0.7926565874730022,\n",
       " 0.7931034482758621,\n",
       " 0.7913978494623656,\n",
       " 0.7896995708154506,\n",
       " 0.7901498929336188,\n",
       " 0.7905982905982906,\n",
       " 0.7910447761194029,\n",
       " 0.7914893617021277,\n",
       " 0.7919320594479831,\n",
       " 0.7923728813559322,\n",
       " 0.7906976744186046,\n",
       " 0.7911392405063291,\n",
       " 0.791578947368421,\n",
       " 0.792016806722689,\n",
       " 0.7924528301886793,\n",
       " 0.7907949790794979,\n",
       " 0.791231732776618,\n",
       " 0.7916666666666666,\n",
       " 0.7920997920997921,\n",
       " 0.7925311203319502,\n",
       " 0.7929606625258799,\n",
       " 0.7913223140495868,\n",
       " 0.7917525773195876,\n",
       " 0.7921810699588477,\n",
       " 0.7926078028747433,\n",
       " 0.7909836065573771,\n",
       " 0.7893660531697342,\n",
       " 0.789795918367347,\n",
       " 0.790224032586558,\n",
       " 0.790650406504065,\n",
       " 0.7910750507099391,\n",
       " 0.791497975708502,\n",
       " 0.7919191919191919,\n",
       " 0.7923387096774194,\n",
       " 0.7927565392354124,\n",
       " 0.7911646586345381,\n",
       " 0.7895791583166333,\n",
       " 0.79,\n",
       " 0.7904191616766467,\n",
       " 0.7908366533864541,\n",
       " 0.7912524850894632,\n",
       " 0.7896825396825397,\n",
       " 0.7900990099009901,\n",
       " 0.7905138339920948,\n",
       " 0.7909270216962525,\n",
       " 0.7913385826771654,\n",
       " 0.7917485265225933,\n",
       " 0.7901960784313725,\n",
       " 0.7906066536203522,\n",
       " 0.7890625,\n",
       " 0.7894736842105263,\n",
       " 0.7898832684824902,\n",
       " 0.7902912621359224,\n",
       " 0.7906976744186046,\n",
       " 0.7891682785299806,\n",
       " 0.7895752895752896,\n",
       " 0.789980732177264,\n",
       " 0.7903846153846154,\n",
       " 0.7907869481765835,\n",
       " 0.7911877394636015,\n",
       " 0.7915869980879541,\n",
       " 0.7919847328244275,\n",
       " 0.7923809523809524,\n",
       " 0.7927756653992395,\n",
       " 0.793168880455408,\n",
       " 0.7935606060606061,\n",
       " 0.7939508506616257,\n",
       " 0.7924528301886793,\n",
       " 0.7928436911487758,\n",
       " 0.793233082706767,\n",
       " 0.7936210131332082,\n",
       " 0.7940074906367042,\n",
       " 0.794392523364486,\n",
       " 0.792910447761194,\n",
       " 0.7932960893854749,\n",
       " 0.7936802973977695,\n",
       " 0.7940630797773655,\n",
       " 0.7944444444444444,\n",
       " 0.7948243992606284,\n",
       " 0.7952029520295203,\n",
       " 0.7937384898710865,\n",
       " 0.7941176470588235,\n",
       " 0.7944954128440367,\n",
       " 0.7948717948717948,\n",
       " 0.7952468007312614,\n",
       " 0.7956204379562044,\n",
       " 0.7959927140255009,\n",
       " 0.7963636363636364,\n",
       " 0.7967332123411979,\n",
       " 0.7971014492753623,\n",
       " 0.7974683544303798,\n",
       " 0.7978339350180506,\n",
       " 0.7981981981981981,\n",
       " 0.7985611510791367,\n",
       " 0.7989228007181328,\n",
       " 0.7992831541218638,\n",
       " 0.7996422182468694,\n",
       " 0.8,\n",
       " 0.8003565062388592,\n",
       " 0.798932384341637,\n",
       " 0.7992895204262878,\n",
       " 0.799645390070922,\n",
       " 0.8,\n",
       " 0.7985865724381626,\n",
       " 0.7971781305114638,\n",
       " 0.7975352112676056,\n",
       " 0.7978910369068541,\n",
       " 0.7982456140350878,\n",
       " 0.7985989492119089,\n",
       " 0.798951048951049,\n",
       " 0.7975567190226877,\n",
       " 0.7979094076655052,\n",
       " 0.7982608695652174,\n",
       " 0.7986111111111112,\n",
       " 0.7989601386481803,\n",
       " 0.7993079584775087,\n",
       " 0.7996545768566494,\n",
       " 0.8,\n",
       " 0.8003442340791739,\n",
       " 0.8006872852233677,\n",
       " 0.8010291595197255,\n",
       " 0.8013698630136986,\n",
       " 0.8017094017094017,\n",
       " 0.8020477815699659,\n",
       " 0.8023850085178875,\n",
       " 0.8027210884353742,\n",
       " 0.801358234295416,\n",
       " 0.8016949152542373,\n",
       " 0.8020304568527918,\n",
       " 0.8023648648648649,\n",
       " 0.8026981450252951,\n",
       " 0.803030303030303,\n",
       " 0.8033613445378152,\n",
       " 0.8036912751677853,\n",
       " 0.8040201005025126,\n",
       " 0.8043478260869565,\n",
       " 0.8030050083472454,\n",
       " 0.8033333333333333,\n",
       " 0.8036605657237936,\n",
       " 0.8039867109634552,\n",
       " 0.802653399668325,\n",
       " 0.8013245033112583,\n",
       " 0.8016528925619835,\n",
       " 0.801980198019802,\n",
       " 0.8023064250411862,\n",
       " 0.8026315789473685,\n",
       " 0.8029556650246306,\n",
       " 0.8032786885245902,\n",
       " 0.8019639934533551,\n",
       " 0.8022875816993464,\n",
       " 0.802610114192496,\n",
       " 0.8013029315960912,\n",
       " 0.8016260162601626,\n",
       " 0.801948051948052,\n",
       " 0.8022690437601296,\n",
       " 0.8025889967637541,\n",
       " 0.802907915993538,\n",
       " 0.8016129032258065,\n",
       " 0.8019323671497585,\n",
       " 0.8022508038585209,\n",
       " 0.8009630818619583,\n",
       " 0.8012820512820513,\n",
       " 0.8016,\n",
       " 0.8019169329073482,\n",
       " 0.8022328548644339,\n",
       " 0.802547770700637,\n",
       " 0.8028616852146264,\n",
       " 0.8031746031746032,\n",
       " 0.803486529318542,\n",
       " 0.8037974683544303,\n",
       " 0.8025276461295419,\n",
       " 0.8028391167192429,\n",
       " 0.8031496062992126,\n",
       " 0.8034591194968553,\n",
       " 0.8037676609105181,\n",
       " 0.8040752351097179,\n",
       " 0.8043818466353677,\n",
       " 0.8046875,\n",
       " 0.8049921996879875,\n",
       " 0.8052959501557633,\n",
       " 0.8055987558320373,\n",
       " 0.8059006211180124,\n",
       " 0.8062015503875969,\n",
       " 0.8065015479876161,\n",
       " 0.8052550231839258,\n",
       " 0.8040123456790124,\n",
       " 0.8043143297380585,\n",
       " 0.803076923076923,\n",
       " 0.8033794162826421,\n",
       " 0.803680981595092,\n",
       " 0.8024502297090352,\n",
       " 0.8027522935779816,\n",
       " 0.8030534351145038,\n",
       " 0.8033536585365854,\n",
       " 0.8036529680365296,\n",
       " 0.8039513677811551,\n",
       " 0.8042488619119879,\n",
       " 0.8045454545454546,\n",
       " 0.8048411497730711,\n",
       " 0.8036253776435045,\n",
       " 0.8024132730015083,\n",
       " 0.802710843373494,\n",
       " 0.8015037593984963,\n",
       " 0.8018018018018018,\n",
       " 0.800599700149925,\n",
       " 0.8008982035928144,\n",
       " 0.7997010463378177,\n",
       " 0.8,\n",
       " 0.8002980625931445,\n",
       " 0.8005952380952381,\n",
       " 0.8008915304606241,\n",
       " 0.8011869436201781,\n",
       " 0.8014814814814815,\n",
       " 0.8017751479289941,\n",
       " 0.8020679468242246,\n",
       " 0.8023598820058997,\n",
       " 0.8026509572901326,\n",
       " 0.8029411764705883,\n",
       " 0.801762114537445,\n",
       " 0.8020527859237536,\n",
       " 0.8023426061493412,\n",
       " 0.8011695906432749,\n",
       " 0.8014598540145985,\n",
       " 0.8002915451895044,\n",
       " 0.8005822416302766,\n",
       " 0.8008720930232558,\n",
       " 0.8011611030478955,\n",
       " 0.8014492753623188,\n",
       " 0.8017366136034733,\n",
       " 0.8020231213872833,\n",
       " 0.8023088023088023,\n",
       " 0.8025936599423631,\n",
       " 0.8028776978417266,\n",
       " 0.8031609195402298,\n",
       " 0.8034433285509326,\n",
       " 0.8037249283667621,\n",
       " 0.804005722460658,\n",
       " 0.8042857142857143,\n",
       " 0.8045649072753209,\n",
       " 0.8048433048433048,\n",
       " 0.8051209103840683,\n",
       " 0.8053977272727273,\n",
       " 0.8056737588652483,\n",
       " 0.8059490084985835,\n",
       " 0.8062234794908062,\n",
       " 0.806497175141243,\n",
       " 0.8053596614950634,\n",
       " 0.8056338028169014,\n",
       " 0.8045007032348804,\n",
       " 0.8033707865168539,\n",
       " 0.8036465638148668,\n",
       " 0.803921568627451,\n",
       " 0.8041958041958042,\n",
       " 0.8044692737430168,\n",
       " 0.8047419804741981,\n",
       " 0.8050139275766016,\n",
       " 0.8052851182197497,\n",
       " 0.8055555555555556,\n",
       " 0.8058252427184466,\n",
       " 0.8060941828254847,\n",
       " 0.8063623789764869,\n",
       " 0.8066298342541437,\n",
       " 0.8068965517241379,\n",
       " 0.8071625344352618,\n",
       " 0.8074277854195323,\n",
       " 0.8076923076923077,\n",
       " 0.8079561042524005,\n",
       " 0.8082191780821918,\n",
       " 0.8084815321477428,\n",
       " 0.8087431693989071,\n",
       " 0.8090040927694406,\n",
       " 0.8092643051771117,\n",
       " 0.8095238095238095,\n",
       " 0.8097826086956522,\n",
       " 0.8100407055630936,\n",
       " 0.8102981029810298,\n",
       " 0.8105548037889039,\n",
       " 0.8108108108108109,\n",
       " 0.8110661268556005,\n",
       " 0.8113207547169812,\n",
       " 0.8115746971736204,\n",
       " 0.8104838709677419,\n",
       " 0.810738255033557,\n",
       " 0.8109919571045576,\n",
       " 0.8112449799196787,\n",
       " 0.8114973262032086,\n",
       " 0.8117489986648865,\n",
       " 0.812,\n",
       " 0.8122503328894807,\n",
       " 0.8125,\n",
       " 0.8127490039840638,\n",
       " 0.8129973474801061,\n",
       " 0.8132450331125828,\n",
       " 0.8134920634920635,\n",
       " 0.8124174372523117,\n",
       " 0.8126649076517151,\n",
       " 0.8129117259552042,\n",
       " 0.8131578947368421,\n",
       " 0.8134034165571616,\n",
       " 0.8123359580052494,\n",
       " 0.8125819134993447,\n",
       " 0.8115183246073299,\n",
       " 0.8117647058823529,\n",
       " 0.8107049608355091,\n",
       " 0.8109517601043025,\n",
       " 0.8111979166666666,\n",
       " 0.811443433029909,\n",
       " 0.8116883116883117,\n",
       " 0.8119325551232166,\n",
       " 0.8121761658031088,\n",
       " 0.8124191461836999,\n",
       " 0.8126614987080103,\n",
       " 0.8129032258064516,\n",
       " 0.8131443298969072,\n",
       " 0.8133848133848134,\n",
       " 0.8136246786632391,\n",
       " 0.8138639281129654,\n",
       " 0.8141025641025641,\n",
       " 0.8143405889884763,\n",
       " 0.8145780051150895,\n",
       " 0.8135376756066411,\n",
       " 0.8137755102040817,\n",
       " 0.8127388535031848,\n",
       " 0.8129770992366412,\n",
       " 0.8132147395171537,\n",
       " 0.8134517766497462,\n",
       " 0.8136882129277566,\n",
       " 0.8139240506329114,\n",
       " 0.8141592920353983,\n",
       " 0.8131313131313131,\n",
       " 0.8133669609079445,\n",
       " 0.8136020151133502,\n",
       " 0.8138364779874214,\n",
       " 0.8140703517587939,\n",
       " 0.8130489335006273,\n",
       " 0.8132832080200502,\n",
       " 0.8135168961201502,\n",
       " 0.8125,\n",
       " 0.8127340823970037,\n",
       " 0.8129675810473815,\n",
       " 0.813200498132005,\n",
       " 0.8134328358208955,\n",
       " 0.8136645962732919,\n",
       " 0.8138957816377171,\n",
       " 0.8141263940520446,\n",
       " 0.8143564356435643,\n",
       " 0.8133498145859085,\n",
       " 0.8135802469135802,\n",
       " 0.813810110974106,\n",
       " 0.8140394088669951,\n",
       " 0.8142681426814268,\n",
       " 0.8144963144963145,\n",
       " 0.8147239263803681,\n",
       " 0.8149509803921569,\n",
       " 0.8151774785801713,\n",
       " 0.815403422982885,\n",
       " 0.8156288156288156,\n",
       " 0.8158536585365853,\n",
       " 0.8148599269183922,\n",
       " 0.8150851581508516,\n",
       " 0.8140947752126367,\n",
       " 0.8143203883495146,\n",
       " 0.8133333333333334,\n",
       " 0.8135593220338984,\n",
       " 0.8137847642079806,\n",
       " 0.8128019323671497,\n",
       " 0.8118214716525934,\n",
       " 0.8120481927710843,\n",
       " 0.8122743682310469,\n",
       " 0.8125,\n",
       " 0.8127250900360145,\n",
       " 0.8117505995203836,\n",
       " 0.8119760479041916,\n",
       " 0.812200956937799,\n",
       " 0.8124253285543608,\n",
       " 0.8126491646778043,\n",
       " 0.8128724672228844,\n",
       " 0.8130952380952381,\n",
       " 0.8133174791914387,\n",
       " 0.8123515439429929,\n",
       " 0.8113879003558719,\n",
       " 0.8116113744075829,\n",
       " 0.8118343195266272,\n",
       " 0.8108747044917257,\n",
       " 0.8110979929161747,\n",
       " 0.8113207547169812,\n",
       " 0.8115429917550059,\n",
       " 0.8117647058823529,\n",
       " 0.8108108108108109,\n",
       " 0.8110328638497653,\n",
       " 0.8112543962485346,\n",
       " 0.8114754098360656,\n",
       " 0.8116959064327486,\n",
       " 0.8119158878504673,\n",
       " 0.8121353558926487,\n",
       " 0.8111888111888111,\n",
       " 0.810244470314319,\n",
       " 0.8104651162790698,\n",
       " 0.8095238095238095,\n",
       " 0.8097447795823666,\n",
       " 0.8099652375434531,\n",
       " 0.8101851851851852,\n",
       " 0.8104046242774566,\n",
       " 0.8106235565819861,\n",
       " 0.8108419838523645,\n",
       " 0.8110599078341014,\n",
       " 0.8112773302646721,\n",
       " 0.8103448275862069,\n",
       " 0.8105625717566016,\n",
       " 0.8107798165137615,\n",
       " 0.8109965635738832,\n",
       " 0.8100686498855835,\n",
       " 0.8102857142857143,\n",
       " 0.8105022831050228,\n",
       " 0.8107183580387686,\n",
       " 0.8109339407744874,\n",
       " 0.8100113765642776,\n",
       " 0.8102272727272727,\n",
       " 0.8104426787741204,\n",
       " 0.8106575963718821,\n",
       " 0.8108720271800679,\n",
       " 0.8110859728506787,\n",
       " 0.8101694915254237,\n",
       " 0.809255079006772,\n",
       " 0.8094701240135288,\n",
       " 0.8096846846846847,\n",
       " 0.8098987626546682,\n",
       " 0.8101123595505618,\n",
       " 0.8103254769921436,\n",
       " 0.8105381165919282,\n",
       " 0.8107502799552072,\n",
       " 0.8109619686800895,\n",
       " 0.8111731843575419,\n",
       " 0.8113839285714286,\n",
       " 0.8115942028985508,\n",
       " 0.8106904231625836,\n",
       " 0.8109010011123471,\n",
       " 0.8111111111111111,\n",
       " 0.8113207547169812,\n",
       " 0.811529933481153,\n",
       " 0.8117386489479512,\n",
       " 0.8119469026548672,\n",
       " 0.8121546961325967,\n",
       " 0.8123620309050773,\n",
       " 0.8125689084895259,\n",
       " 0.8127753303964758,\n",
       " 0.812981298129813,\n",
       " 0.8131868131868132,\n",
       " 0.8122941822173436,\n",
       " 0.8125,\n",
       " 0.8127053669222344,\n",
       " 0.812910284463895,\n",
       " 0.8131147540983606,\n",
       " 0.8122270742358079,\n",
       " 0.8113413304252999,\n",
       " 0.8115468409586056,\n",
       " 0.8117519042437432,\n",
       " 0.8108695652173913,\n",
       " 0.8110749185667753,\n",
       " 0.8112798264642083,\n",
       " 0.8114842903575298,\n",
       " 0.8116883116883117,\n",
       " 0.8118918918918919,\n",
       " 0.8120950323974082,\n",
       " 0.8122977346278317,\n",
       " 0.8125,\n",
       " 0.8127018299246501,\n",
       " 0.8129032258064516,\n",
       " 0.8131041890440387,\n",
       " 0.8133047210300429,\n",
       " 0.812433011789925,\n",
       " 0.8126338329764454,\n",
       " 0.8117647058823529,\n",
       " 0.811965811965812,\n",
       " 0.8121664887940235,\n",
       " 0.8113006396588486,\n",
       " 0.8115015974440895,\n",
       " 0.8117021276595745,\n",
       " 0.8108395324123273,\n",
       " 0.8099787685774947,\n",
       " 0.8101802757158006,\n",
       " 0.8103813559322034,\n",
       " 0.8095238095238095,\n",
       " 0.8086680761099366,\n",
       " 0.808870116156283,\n",
       " 0.8090717299578059,\n",
       " 0.80927291886196,\n",
       " 0.8094736842105263,\n",
       " 0.8096740273396424,\n",
       " 0.8098739495798319,\n",
       " 0.8090241343126967,\n",
       " 0.8092243186582809,\n",
       " 0.8094240837696335,\n",
       " 0.8096234309623431,\n",
       " 0.8087774294670846,\n",
       " 0.8089770354906054,\n",
       " 0.8091762252346194,\n",
       " 0.809375,\n",
       " 0.809573361082206,\n",
       " 0.8087318087318087,\n",
       " 0.8089304257528557,\n",
       " 0.808091286307054,\n",
       " 0.8082901554404145,\n",
       " 0.8084886128364389,\n",
       " 0.8086866597724922,\n",
       " 0.8088842975206612,\n",
       " 0.8090815273477813,\n",
       " 0.8092783505154639,\n",
       " 0.8094747682801235,\n",
       " 0.8096707818930041,\n",
       " 0.8098663926002055,\n",
       " 0.8090349075975359,\n",
       " 0.8092307692307692,\n",
       " 0.8094262295081968,\n",
       " 0.8085977482088025,\n",
       " 0.8077709611451943,\n",
       " 0.8079673135852911,\n",
       " 0.8081632653061225,\n",
       " 0.8083588175331294,\n",
       " 0.8075356415478615,\n",
       " 0.8067141403865717,\n",
       " 0.806910569105691,\n",
       " 0.8060913705583757,\n",
       " 0.8062880324543611,\n",
       " 0.806484295845998,\n",
       " 0.8066801619433198,\n",
       " 0.8068756319514662,\n",
       " 0.807070707070707,\n",
       " 0.8062563067608476,\n",
       " 0.8064516129032258,\n",
       " 0.8066465256797583,\n",
       " 0.806841046277666,\n",
       " 0.807035175879397,\n",
       " 0.8072289156626506,\n",
       " 0.8074222668004012,\n",
       " 0.8076152304609219,\n",
       " 0.8078078078078078,\n",
       " 0.808]"
      ]
     },
     "execution_count": 116,
     "metadata": {},
     "output_type": "execute_result"
    }
   ],
   "source": [
    "for n in range(1, N + 1):\n",
    "    s = np.sum(res[:n]) / n\n",
    "    prop.append(s)\n",
    "prop    "
   ]
  },
  {
   "cell_type": "code",
   "execution_count": 119,
   "metadata": {},
   "outputs": [
    {
     "data": {
      "text/plain": [
       "[<matplotlib.lines.Line2D at 0x1e761440f88>]"
      ]
     },
     "execution_count": 119,
     "metadata": {},
     "output_type": "execute_result"
    },
    {
     "data": {
      "image/png": "[encoded data removed]",
      "text/plain": [
       "<Figure size 432x288 with 1 Axes>"
      ]
     },
     "metadata": {
      "needs_background": "light"
     },
     "output_type": "display_data"
    }
   ],
   "source": [
    "plt.plot(prop)\n",
    "plt.plot(range(N), 0.8*np.ones(N))"
   ]
  }
 ],
 "metadata": {
  "kernelspec": {
   "display_name": "Python 3",
   "language": "python",
   "name": "python3"
  },
  "language_info": {
   "codemirror_mode": {
    "name": "ipython",
    "version": 3
   },
   "file_extension": ".py",
   "mimetype": "text/x-python",
   "name": "python",
   "nbconvert_exporter": "python",
   "pygments_lexer": "ipython3",
   "version": "3.7.9"
  }
 },
 "nbformat": 4,
 "nbformat_minor": 4
}
