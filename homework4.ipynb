{
 "cells": [
  {
   "cell_type": "markdown",
   "metadata": {},
   "source": [
    "<center>\n",
    "<h1>Python</h1>\n",
    "<h2>Spring 2021, YSU</h2>\n",
    "</br></br>\n",
    "<h1>Homework 04</h2>\n",
    "</center>"
   ]
  },
  {
   "cell_type": "code",
   "execution_count": 3,
   "metadata": {},
   "outputs": [],
   "source": [
    "import numpy as np\n",
    "import matplotlib.pyplot as plt\n",
    "import matplotlib.image as mpimg"
   ]
  },
  {
   "cell_type": "markdown",
   "metadata": {},
   "source": [
    "## Problem 01, `math` package"
   ]
  },
  {
   "cell_type": "markdown",
   "metadata": {},
   "source": [
    "- Without using the `numpy` package, and only using the `math` package, plot the graph of the following functions:\n",
    "\n",
    "    * $f(x) = x\\cdot \\sin\\dfrac{1}{x}$, $x\\in[-1,1]$\n",
    "    * $f(x) = \\ln\\left(1+e^{-2x}\\right)$, $x\\in[-2,2]$"
   ]
  },
  {
   "cell_type": "code",
   "execution_count": 6,
   "metadata": {},
   "outputs": [
    {
     "data": {
      "text/plain": [
       "[<matplotlib.lines.Line2D at 0x216d1a69908>]"
      ]
     },
     "execution_count": 6,
     "metadata": {},
     "output_type": "execute_result"
    },
    {
     "data": {
      "image/png": "[encoded data removed]",
      "text/plain": [
       "<Figure size 432x288 with 1 Axes>"
      ]
     },
     "metadata": {
      "needs_background": "light"
     },
     "output_type": "display_data"
    }
   ],
   "source": [
    "x = np.linspace(-1, 1, 200)\n",
    "y = np.sin(1/x)\n",
    "plt.plot(x, x*y)"
   ]
  },
  {
   "cell_type": "code",
   "execution_count": 11,
   "metadata": {},
   "outputs": [
    {
     "data": {
      "text/plain": [
       "[<matplotlib.lines.Line2D at 0x216d1bd38c8>]"
      ]
     },
     "execution_count": 11,
     "metadata": {},
     "output_type": "execute_result"
    },
    {
     "data": {
      "image/png": "[encoded data removed]",
      "text/plain": [
       "<Figure size 432x288 with 1 Axes>"
      ]
     },
     "metadata": {
      "needs_background": "light"
     },
     "output_type": "display_data"
    }
   ],
   "source": [
    "x = np.linspace(-2, 2, 200)\n",
    "y = np.log(1 + np.exp(-2*x))\n",
    "plt.plot(x, y)"
   ]
  },
  {
   "cell_type": "markdown",
   "metadata": {},
   "source": [
    "## Problem 02, `numpy` package"
   ]
  },
  {
   "cell_type": "markdown",
   "metadata": {},
   "source": [
    "Here, in this section, by writing `array` we will mean `ndarray`, i.e., numpy array"
   ]
  },
  {
   "cell_type": "markdown",
   "metadata": {},
   "source": [
    "- Create a 1D numpy array containing the values in the same order [1,4,11,2,0,5, 2], and get the even-indiced elements"
   ]
  },
  {
   "cell_type": "code",
   "execution_count": 5,
   "metadata": {},
   "outputs": [
    {
     "data": {
      "text/plain": [
       "array([4, 2, 5])"
      ]
     },
     "execution_count": 5,
     "metadata": {},
     "output_type": "execute_result"
    }
   ],
   "source": [
    "array = np.array([1, 4, 11, 2, 0, 5, 2])\n",
    "array[1::2]"
   ]
  },
  {
   "cell_type": "markdown",
   "metadata": {},
   "source": [
    "- Create a 1D array consisting of the number 3, repeated 10 times"
   ]
  },
  {
   "cell_type": "code",
   "execution_count": 15,
   "metadata": {},
   "outputs": [
    {
     "data": {
      "text/plain": [
       "array([3, 3, 3, 3, 3, 3, 3, 3, 3, 3])"
      ]
     },
     "execution_count": 15,
     "metadata": {},
     "output_type": "execute_result"
    }
   ],
   "source": [
    "arr = np.array([3] * 10)\n",
    "arr"
   ]
  },
  {
   "cell_type": "markdown",
   "metadata": {},
   "source": [
    "- Create a 1D array consisting of all integers between 10 and 99 (included), i.e., 10,11, 12,..., 98, 99"
   ]
  },
  {
   "cell_type": "code",
   "execution_count": 17,
   "metadata": {},
   "outputs": [
    {
     "data": {
      "text/plain": [
       "array([10, 11, 12, 13, 14, 15, 16, 17, 18, 19, 20, 21, 22, 23, 24, 25, 26,\n",
       "       27, 28, 29, 30, 31, 32, 33, 34, 35, 36, 37, 38, 39, 40, 41, 42, 43,\n",
       "       44, 45, 46, 47, 48, 49, 50, 51, 52, 53, 54, 55, 56, 57, 58, 59, 60,\n",
       "       61, 62, 63, 64, 65, 66, 67, 68, 69, 70, 71, 72, 73, 74, 75, 76, 77,\n",
       "       78, 79, 80, 81, 82, 83, 84, 85, 86, 87, 88, 89, 90, 91, 92, 93, 94,\n",
       "       95, 96, 97, 98, 99])"
      ]
     },
     "execution_count": 17,
     "metadata": {},
     "output_type": "execute_result"
    }
   ],
   "source": [
    "arr = np.arange(10, 100)\n",
    "arr"
   ]
  },
  {
   "cell_type": "markdown",
   "metadata": {},
   "source": [
    "- Create a 1D array of the elements 1, 1.5, 2, 2.5, ..., 99, 99.5, 100"
   ]
  },
  {
   "cell_type": "code",
   "execution_count": 20,
   "metadata": {},
   "outputs": [
    {
     "data": {
      "text/plain": [
       "array([  1. ,   1.5,   2. ,   2.5,   3. ,   3.5,   4. ,   4.5,   5. ,\n",
       "         5.5,   6. ,   6.5,   7. ,   7.5,   8. ,   8.5,   9. ,   9.5,\n",
       "        10. ,  10.5,  11. ,  11.5,  12. ,  12.5,  13. ,  13.5,  14. ,\n",
       "        14.5,  15. ,  15.5,  16. ,  16.5,  17. ,  17.5,  18. ,  18.5,\n",
       "        19. ,  19.5,  20. ,  20.5,  21. ,  21.5,  22. ,  22.5,  23. ,\n",
       "        23.5,  24. ,  24.5,  25. ,  25.5,  26. ,  26.5,  27. ,  27.5,\n",
       "        28. ,  28.5,  29. ,  29.5,  30. ,  30.5,  31. ,  31.5,  32. ,\n",
       "        32.5,  33. ,  33.5,  34. ,  34.5,  35. ,  35.5,  36. ,  36.5,\n",
       "        37. ,  37.5,  38. ,  38.5,  39. ,  39.5,  40. ,  40.5,  41. ,\n",
       "        41.5,  42. ,  42.5,  43. ,  43.5,  44. ,  44.5,  45. ,  45.5,\n",
       "        46. ,  46.5,  47. ,  47.5,  48. ,  48.5,  49. ,  49.5,  50. ,\n",
       "        50.5,  51. ,  51.5,  52. ,  52.5,  53. ,  53.5,  54. ,  54.5,\n",
       "        55. ,  55.5,  56. ,  56.5,  57. ,  57.5,  58. ,  58.5,  59. ,\n",
       "        59.5,  60. ,  60.5,  61. ,  61.5,  62. ,  62.5,  63. ,  63.5,\n",
       "        64. ,  64.5,  65. ,  65.5,  66. ,  66.5,  67. ,  67.5,  68. ,\n",
       "        68.5,  69. ,  69.5,  70. ,  70.5,  71. ,  71.5,  72. ,  72.5,\n",
       "        73. ,  73.5,  74. ,  74.5,  75. ,  75.5,  76. ,  76.5,  77. ,\n",
       "        77.5,  78. ,  78.5,  79. ,  79.5,  80. ,  80.5,  81. ,  81.5,\n",
       "        82. ,  82.5,  83. ,  83.5,  84. ,  84.5,  85. ,  85.5,  86. ,\n",
       "        86.5,  87. ,  87.5,  88. ,  88.5,  89. ,  89.5,  90. ,  90.5,\n",
       "        91. ,  91.5,  92. ,  92.5,  93. ,  93.5,  94. ,  94.5,  95. ,\n",
       "        95.5,  96. ,  96.5,  97. ,  97.5,  98. ,  98.5,  99. ,  99.5,\n",
       "       100. ])"
      ]
     },
     "execution_count": 20,
     "metadata": {},
     "output_type": "execute_result"
    }
   ],
   "source": [
    "arr = np.arange(1, 100.5, 0.5)\n",
    "arr"
   ]
  },
  {
   "cell_type": "markdown",
   "metadata": {},
   "source": [
    "- Create a 1D array of length 25 consisting of all zeros, except the 12th element, which is 5"
   ]
  },
  {
   "cell_type": "code",
   "execution_count": 26,
   "metadata": {},
   "outputs": [
    {
     "data": {
      "text/plain": [
       "array([0., 0., 0., 0., 0., 0., 0., 0., 0., 0., 0., 5., 0., 0., 0., 0., 0.,\n",
       "       0., 0., 0., 0., 0., 0., 0., 0.])"
      ]
     },
     "execution_count": 26,
     "metadata": {},
     "output_type": "execute_result"
    }
   ],
   "source": [
    "arr = np.zeros(25)\n",
    "arr[11] = 5\n",
    "arr"
   ]
  },
  {
   "cell_type": "markdown",
   "metadata": {},
   "source": [
    "- Create a matrix of size $5\\times 5$, which consists of all zeros, except on the boundary, where all boundary elements are equal to 1"
   ]
  },
  {
   "cell_type": "code",
   "execution_count": 46,
   "metadata": {},
   "outputs": [
    {
     "data": {
      "text/plain": [
       "array([[1., 1., 1., 1., 1.],\n",
       "       [1., 0., 0., 0., 1.],\n",
       "       [1., 0., 0., 0., 1.],\n",
       "       [1., 0., 0., 0., 1.],\n",
       "       [1., 1., 1., 1., 1.]])"
      ]
     },
     "execution_count": 46,
     "metadata": {},
     "output_type": "execute_result"
    }
   ],
   "source": [
    "matrix = np.zeros(25).reshape(5,-1)\n",
    "matrix[0] = 1\n",
    "matrix[-1] = 1\n",
    "matrix[:,0] = 1\n",
    "matrix[:,-1] = 1\n",
    "matrix"
   ]
  },
  {
   "cell_type": "markdown",
   "metadata": {},
   "source": [
    "- Create a 1D vector of the form 1,0, 2, 0, 3, 0,..., 50,0"
   ]
  },
  {
   "cell_type": "code",
   "execution_count": 75,
   "metadata": {},
   "outputs": [
    {
     "data": {
      "text/plain": [
       "array([ 1.,  0.,  2.,  0.,  3.,  0.,  4.,  0.,  5.,  0.,  6.,  0.,  7.,\n",
       "        0.,  8.,  0.,  9.,  0., 10.,  0., 11.,  0., 12.,  0., 13.,  0.,\n",
       "       14.,  0., 15.,  0., 16.,  0., 17.,  0., 18.,  0., 19.,  0., 20.,\n",
       "        0., 21.,  0., 22.,  0., 23.,  0., 24.,  0., 25.,  0., 26.,  0.,\n",
       "       27.,  0., 28.,  0., 29.,  0., 30.,  0., 31.,  0., 32.,  0., 33.,\n",
       "        0., 34.,  0., 35.,  0., 36.,  0., 37.,  0., 38.,  0., 39.,  0.,\n",
       "       40.,  0., 41.,  0., 42.,  0., 43.,  0., 44.,  0., 45.,  0., 46.,\n",
       "        0., 47.,  0., 48.,  0., 49.,  0., 50.,  0.])"
      ]
     },
     "execution_count": 75,
     "metadata": {},
     "output_type": "execute_result"
    }
   ],
   "source": [
    "vector = np.array([])\n",
    "\n",
    "for i in range(1, 51):\n",
    "    vector = np.append(vector, [i])\n",
    "    vector = np.append(vector, [0])\n",
    "vector"
   ]
  },
  {
   "cell_type": "markdown",
   "metadata": {},
   "source": [
    "- Create the following matrix:\n",
    "$$\n",
    "\\begin{array}{cccc}\n",
    "1 & 0 & 2 & 0 & 3\\\\\n",
    "0 & 4 & 0 & 5 & 0\\\\\n",
    "6 & 0 & 7 & 0 & 8\\\\\n",
    "\\vdots & \\vdots & \\vdots & \\vdots & \\vdots\\\\\n",
    "21 & 0 & 22 & 0 & 23\n",
    "\\end{array}\n",
    "$$"
   ]
  },
  {
   "cell_type": "code",
   "execution_count": 89,
   "metadata": {},
   "outputs": [
    {
     "data": {
      "text/plain": [
       "array([[ 1.,  0.,  2.,  0.,  3.],\n",
       "       [ 0.,  4.,  0.,  5.,  0.],\n",
       "       [ 6.,  0.,  7.,  0.,  8.],\n",
       "       [ 0.,  9.,  0., 10.,  0.],\n",
       "       [11.,  0., 12.,  0., 13.],\n",
       "       [ 0., 14.,  0., 15.,  0.],\n",
       "       [16.,  0., 17.,  0., 18.],\n",
       "       [ 0., 19.,  0., 20.,  0.],\n",
       "       [21.,  0., 22.,  0., 23.]])"
      ]
     },
     "execution_count": 89,
     "metadata": {},
     "output_type": "execute_result"
    }
   ],
   "source": [
    "m = np.array([])\n",
    "\n",
    "for i in range(1, 24):\n",
    "    m = np.append(m, [i])\n",
    "    m = np.append(m, [0])\n",
    "    \n",
    "m = np.delete(m, -1)\n",
    "m = m.reshape(-1, 5)\n",
    "m"
   ]
  },
  {
   "cell_type": "markdown",
   "metadata": {},
   "source": [
    "- Keep in the variable `mm` the copy of the upper left $3\\times 3$ minor of the above matrix. Change one of the values in `mm` and see if the values of the original matrix are changing"
   ]
  },
  {
   "cell_type": "code",
   "execution_count": 93,
   "metadata": {},
   "outputs": [
    {
     "data": {
      "text/plain": [
       "array([[ 1.,  0.,  2.,  0.,  3.],\n",
       "       [ 0.,  4.,  0.,  5.,  0.],\n",
       "       [ 6.,  0.,  7.,  0.,  8.],\n",
       "       [ 0.,  9.,  0., 10.,  0.],\n",
       "       [11.,  0., 12.,  0., 13.],\n",
       "       [ 0., 14.,  0., 15.,  0.],\n",
       "       [16.,  0., 17.,  0., 18.],\n",
       "       [ 0., 19.,  0., 20.,  0.],\n",
       "       [21.,  0., 22.,  0., 23.]])"
      ]
     },
     "execution_count": 93,
     "metadata": {},
     "output_type": "execute_result"
    }
   ],
   "source": [
    "mm = m.copy()\n",
    "mm"
   ]
  },
  {
   "cell_type": "markdown",
   "metadata": {},
   "source": [
    "- Generate a 1D array of random uniform numbers in [-2,2], and then get the number of positive elements in that array"
   ]
  },
  {
   "cell_type": "markdown",
   "metadata": {},
   "source": [
    "The random module's rand() method returns a random float between 0 and 1."
   ]
  },
  {
   "cell_type": "code",
   "execution_count": 115,
   "metadata": {},
   "outputs": [
    {
     "data": {
      "text/plain": [
       "array([1.53267364, 0.32696294, 0.27712357, 0.45596623, 0.54481264,\n",
       "       1.6871439 , 1.53614821, 1.91746713, 1.73007926, 0.51258227,\n",
       "       0.04983887, 1.48298775, 1.13540233, 1.49311244, 0.73053623,\n",
       "       0.73649926, 0.57060984, 1.52780789, 1.16151551, 0.81113745,\n",
       "       1.9914935 , 1.9917783 , 0.34764732, 0.22117806, 1.2974304 ,\n",
       "       1.47854407, 0.78350402, 0.20334719, 0.65633398, 1.69630846,\n",
       "       0.304283  , 1.87189822, 1.21254512, 0.54605293, 1.68705731,\n",
       "       1.27902088, 0.36383958, 0.87340421, 1.57468676, 1.66023899,\n",
       "       1.49183242, 1.31602119, 1.94168622, 0.04970226, 0.58620362,\n",
       "       0.27158262, 0.74547139, 0.39050871, 0.66521154, 1.13723258,\n",
       "       0.35831911, 0.24555214, 1.78449437, 0.40042752, 0.97563058,\n",
       "       1.51580568, 1.32009372])"
      ]
     },
     "execution_count": 115,
     "metadata": {},
     "output_type": "execute_result"
    }
   ],
   "source": [
    "random_array = 4 * np.random.rand(100) - 2\n",
    "random_array[random_array > 0]"
   ]
  },
  {
   "cell_type": "markdown",
   "metadata": {},
   "source": [
    "- Generate 200 numbers from the $Poisson(6.5)$ distribution, and construct the frequency table of this dataset (i.e., keep in a 2D array the unique values of that dataset and the correcponding frequencies)"
   ]
  },
  {
   "cell_type": "code",
   "execution_count": 127,
   "metadata": {},
   "outputs": [
    {
     "data": {
      "text/plain": [
       "array([ 1, 10,  6,  6,  5, 10, 14,  2,  5, 10,  5, 13,  6,  8,  5,  8,  7,\n",
       "        4,  6,  5, 13,  4,  6,  9,  8,  5,  6,  8,  5,  2, 11,  6,  2, 11,\n",
       "        7,  5,  6,  8,  3,  6,  7,  9,  3, 11,  7,  9, 10, 10, 12,  7,  6,\n",
       "        7,  2,  5,  3,  6, 11,  7,  7,  8,  4,  6,  4,  5, 14,  6,  7,  4,\n",
       "        4,  8,  4,  7,  2,  2,  9,  6,  5,  7,  5,  6,  8, 10,  4,  5,  8,\n",
       "        4, 11,  5,  7,  5,  7,  6,  9,  8,  6,  5,  9,  4,  4,  8,  6,  7,\n",
       "        3,  5, 10,  7,  8,  8,  7,  5,  7,  5,  4,  7,  6,  2, 10,  6,  5,\n",
       "        6,  7,  3,  5,  9, 13,  9,  6, 10,  5,  8,  7,  5,  8,  8, 10,  8,\n",
       "       10,  7,  6,  5,  7,  7,  4,  6, 10,  4,  4,  2,  7,  4,  9,  4,  7,\n",
       "        6,  3,  9,  4,  6,  8,  9,  6,  4,  9,  8,  9,  4,  2,  2,  6,  9,\n",
       "        8,  8, 10,  3,  4,  8,  7,  7,  9,  5,  9,  3,  9,  8,  9,  4,  9,\n",
       "        9,  5,  5,  4, 10,  4,  8,  9,  6,  9, 13,  6,  7])"
      ]
     },
     "execution_count": 127,
     "metadata": {},
     "output_type": "execute_result"
    }
   ],
   "source": [
    "poisson_distribution = np.random.poisson(lam=6.5, size=200)\n",
    "poisson_distribution"
   ]
  },
  {
   "cell_type": "markdown",
   "metadata": {},
   "source": [
    "- Generate 1000 random numbers from the $Exp(1.2)$ Distribution, and construct the histogram of that Dataset with 20 bins"
   ]
  },
  {
   "cell_type": "code",
   "execution_count": 157,
   "metadata": {},
   "outputs": [
    {
     "data": {
      "image/png": "[encoded data removed]",
      "text/plain": [
       "<Figure size 432x288 with 1 Axes>"
      ]
     },
     "metadata": {
      "needs_background": "light"
     },
     "output_type": "display_data"
    }
   ],
   "source": [
    "e = np.random.exponential(1.2, 1000)\n",
    "plt.hist(e, bins=20);"
   ]
  },
  {
   "cell_type": "markdown",
   "metadata": {},
   "source": [
    "- Create a matrix of size $15\\times 15$ of standard normally distributed numbers, \n",
    "    * calculate the sum of all elements \n",
    "    * calculate the sum of elements in each row\n",
    "    * calculate the sum of elements in each column\n",
    "    * calculate the mean of all elements\n",
    "    * calculate the mean of elements in each row    "
   ]
  },
  {
   "cell_type": "code",
   "execution_count": 200,
   "metadata": {},
   "outputs": [
    {
     "data": {
      "text/plain": [
       "array([[-1.26714684, -0.73836901, -1.10513603,  0.30832486, -1.97069229,\n",
       "        -0.32514555, -0.79428068, -0.18030884, -0.31875741,  2.46638575,\n",
       "        -0.93776804, -0.94639809, -0.40852424,  1.61474063, -0.45377563],\n",
       "       [ 0.05620485,  0.37038942,  0.70925812,  0.25592714, -0.22742128,\n",
       "        -0.87944598,  0.00713953,  0.2528721 , -0.13636947, -1.41948886,\n",
       "        -0.63621365,  1.61285517, -1.00477795,  0.0208246 ,  0.98501781],\n",
       "       [-0.34942623,  2.31176277,  1.42956928,  0.7013564 ,  0.49948443,\n",
       "         1.46819483,  0.23371452, -1.21119151, -1.24996358, -0.09048251,\n",
       "        -1.17307843, -1.21590385, -1.28090623,  0.32529696,  0.7291826 ],\n",
       "       [-0.5938596 , -0.46142791, -0.31970298,  0.94325858,  0.49560339,\n",
       "        -1.07441967, -0.4258961 , -1.21954051, -0.09089987,  0.67235642,\n",
       "         1.32345199,  1.45970383,  0.07626042,  1.75973806,  0.0449839 ],\n",
       "       [ 0.41181824, -1.3136619 , -1.46093207, -1.82358161, -0.52372241,\n",
       "         0.099534  , -1.36467555,  0.74890605, -0.11062026,  0.17072533,\n",
       "         0.36662227, -0.22844289,  0.35853038,  0.00452437,  1.07455115],\n",
       "       [-0.47924373,  0.46864858,  0.17337953,  0.91885189, -1.32619144,\n",
       "        -0.02540131, -0.51880584,  1.63079419,  0.17540989,  0.20909067,\n",
       "         0.77169736,  0.51721294,  0.18976797,  0.90815034, -1.28283961],\n",
       "       [ 0.02630968,  0.00937234,  0.82650226,  0.90234413, -0.58678282,\n",
       "         1.42814947,  0.1353894 , -0.66967364,  0.8643757 ,  1.09757349,\n",
       "         0.8132009 , -0.60880334, -0.06546329, -0.5924585 , -0.49304177],\n",
       "       [-0.71034756,  0.31315451,  1.67127316, -0.58310705,  0.02613275,\n",
       "        -0.35154803, -0.70496377,  1.26451299,  2.36364319,  0.55839192,\n",
       "        -2.09262249,  1.05098765,  0.06662083,  1.09947239,  0.5469802 ],\n",
       "       [-1.19591448, -2.72679549,  0.17492295,  0.2989876 , -0.58692358,\n",
       "        -0.01775297,  0.37850342, -2.30439042, -0.68452183,  0.47118249,\n",
       "         0.42785545, -2.45716955, -0.76227207, -0.68766499,  1.95579305],\n",
       "       [ 1.23650692,  1.01530738,  1.33003366,  0.50922762,  0.26521562,\n",
       "         1.24875075, -1.11055114, -0.10673823,  0.5130361 , -0.12161669,\n",
       "         1.65184695,  0.22844401,  1.45466769, -0.38882749, -0.58519561],\n",
       "       [-2.25949015, -1.40010302,  1.38414776, -0.6028394 ,  0.57554675,\n",
       "        -2.19379085, -0.02996815,  1.80671835, -0.74075704,  0.93823618,\n",
       "         1.11739613, -1.61312922, -0.38531316,  1.9868765 ,  1.31596633],\n",
       "       [ 0.43004553, -0.30378168, -0.05797467, -1.10906124,  2.81541092,\n",
       "        -1.74872747, -1.65135725,  0.30405007,  0.381698  ,  1.32195994,\n",
       "         1.11542724,  0.53748044,  1.20034781, -0.56550543, -1.14672994],\n",
       "       [-2.18507351,  0.27921204,  0.164699  ,  1.00321751, -1.08965893,\n",
       "        -1.33164539, -0.95926817,  0.72414266,  0.82278085,  1.08075772,\n",
       "         3.05544483, -1.28751411,  0.82276365,  0.47824231, -0.09943652],\n",
       "       [ 0.19282731, -0.68579159,  1.12923119, -1.03762511,  1.17534686,\n",
       "        -1.30675081, -1.48138787,  1.27542544, -0.87324756, -2.1245575 ,\n",
       "         0.64980824, -1.23216577,  1.1593139 ,  1.39848143,  2.03744018],\n",
       "       [ 0.28161438,  0.19235721,  0.01311671, -0.21854834, -0.85415156,\n",
       "         1.47868321, -0.97344066, -0.25046072,  0.5894659 ,  0.93051637,\n",
       "        -0.85082937,  0.55092967, -0.59203622, -0.77582383, -1.26194448]])"
      ]
     },
     "execution_count": 200,
     "metadata": {},
     "output_type": "execute_result"
    }
   ],
   "source": [
    "mtx = np.array([np.random.normal(size=225)]).reshape(15,15)\n",
    "mtx"
   ]
  },
  {
   "cell_type": "code",
   "execution_count": 201,
   "metadata": {},
   "outputs": [
    {
     "data": {
      "text/plain": [
       "5.833997689281348"
      ]
     },
     "execution_count": 201,
     "metadata": {},
     "output_type": "execute_result"
    }
   ],
   "source": [
    "mtx_sum = mtx.sum()\n",
    "mtx_sum"
   ]
  },
  {
   "cell_type": "code",
   "execution_count": 202,
   "metadata": {},
   "outputs": [
    {
     "data": {
      "text/plain": [
       "array([-5.05685142, -0.03322846,  1.12760945,  2.58960996, -3.59042491,\n",
       "        2.33052141,  3.08699402,  4.51858069, -7.71616043,  7.14010755,\n",
       "       -0.10050298,  1.52328228,  1.47866395,  0.27634834, -1.74055175])"
      ]
     },
     "execution_count": 202,
     "metadata": {},
     "output_type": "execute_result"
    }
   ],
   "source": [
    "mtx_sumrow = mtx.sum(axis=1)\n",
    "mtx_sumrow"
   ]
  },
  {
   "cell_type": "code",
   "execution_count": 203,
   "metadata": {},
   "outputs": [
    {
     "data": {
      "text/plain": [
       "array([-6.40517517, -2.66972636,  6.06238786,  0.46673298, -1.31280359,\n",
       "       -3.53131577, -9.25984832,  2.06511798,  1.50527261,  6.1610307 ,\n",
       "        5.60223938, -3.6319131 ,  0.82897949,  6.58606735,  3.36695166])"
      ]
     },
     "execution_count": 203,
     "metadata": {},
     "output_type": "execute_result"
    }
   ],
   "source": [
    "mtx_sumcolumn = mtx.sum(axis=0)\n",
    "mtx_sumcolumn"
   ]
  },
  {
   "cell_type": "code",
   "execution_count": 204,
   "metadata": {},
   "outputs": [
    {
     "data": {
      "text/plain": [
       "0.025928878619028213"
      ]
     },
     "execution_count": 204,
     "metadata": {},
     "output_type": "execute_result"
    }
   ],
   "source": [
    "mtx_mean = mtx.mean()\n",
    "mtx_mean"
   ]
  },
  {
   "cell_type": "code",
   "execution_count": 205,
   "metadata": {},
   "outputs": [
    {
     "data": {
      "text/plain": [
       "array([-0.33712343, -0.00221523,  0.07517396,  0.17264066, -0.23936166,\n",
       "        0.15536809,  0.2057996 ,  0.30123871, -0.5144107 ,  0.47600717,\n",
       "       -0.0067002 ,  0.10155215,  0.0985776 ,  0.01842322, -0.11603678])"
      ]
     },
     "execution_count": 205,
     "metadata": {},
     "output_type": "execute_result"
    }
   ],
   "source": [
    "mtx_menarow = mtx.mean(axis=1)\n",
    "mtx_menarow"
   ]
  },
  {
   "cell_type": "markdown",
   "metadata": {},
   "source": [
    "- In this example, we want to get the shape of the PDF of the sum of 2 Independent Unif[0,1] r.v.s. Generate 2 samples of 1000 random numbers from the Unif[0,1] distribution, add them, and plot the density hisitogram of the obtained dataset. Also, take $X, Y\\sim Unif[0,1]$ Independent r.v.s and find, theoretically, the distribution of the r.v. $Z = X+Y$. Compare the results."
   ]
  },
  {
   "cell_type": "markdown",
   "metadata": {},
   "source": [
    "- Read, in the array `im`, the image at \n",
    "\n",
    "[https://static.wixstatic.com/media/2cd43b_de870a7313e1454da9573de5162b4bd5~mv2_d_1750_1209_s_2.png](https://static.wixstatic.com/media/2cd43b_de870a7313e1454da9573de5162b4bd5~mv2_d_1750_1209_s_2.png) . \n"
   ]
  },
  {
   "cell_type": "code",
   "execution_count": 213,
   "metadata": {},
   "outputs": [
    {
     "data": {
      "text/plain": [
       "array([[[1., 1., 1., 0.],\n",
       "        [1., 1., 1., 0.],\n",
       "        [1., 1., 1., 0.],\n",
       "        ...,\n",
       "        [1., 1., 1., 0.],\n",
       "        [1., 1., 1., 0.],\n",
       "        [1., 1., 1., 0.]],\n",
       "\n",
       "       [[1., 1., 1., 0.],\n",
       "        [1., 1., 1., 0.],\n",
       "        [1., 1., 1., 0.],\n",
       "        ...,\n",
       "        [1., 1., 1., 0.],\n",
       "        [1., 1., 1., 0.],\n",
       "        [1., 1., 1., 0.]],\n",
       "\n",
       "       [[1., 1., 1., 0.],\n",
       "        [1., 1., 1., 0.],\n",
       "        [1., 1., 1., 0.],\n",
       "        ...,\n",
       "        [1., 1., 1., 0.],\n",
       "        [1., 1., 1., 0.],\n",
       "        [1., 1., 1., 0.]],\n",
       "\n",
       "       ...,\n",
       "\n",
       "       [[1., 1., 1., 0.],\n",
       "        [1., 1., 1., 0.],\n",
       "        [1., 1., 1., 0.],\n",
       "        ...,\n",
       "        [1., 1., 1., 0.],\n",
       "        [1., 1., 1., 0.],\n",
       "        [1., 1., 1., 0.]],\n",
       "\n",
       "       [[1., 1., 1., 0.],\n",
       "        [1., 1., 1., 0.],\n",
       "        [1., 1., 1., 0.],\n",
       "        ...,\n",
       "        [1., 1., 1., 0.],\n",
       "        [1., 1., 1., 0.],\n",
       "        [1., 1., 1., 0.]],\n",
       "\n",
       "       [[1., 1., 1., 0.],\n",
       "        [1., 1., 1., 0.],\n",
       "        [1., 1., 1., 0.],\n",
       "        ...,\n",
       "        [1., 1., 1., 0.],\n",
       "        [1., 1., 1., 0.],\n",
       "        [1., 1., 1., 0.]]], dtype=float32)"
      ]
     },
     "execution_count": 213,
     "metadata": {},
     "output_type": "execute_result"
    }
   ],
   "source": [
    "image = mpimg.imread(\"https://static.wixstatic.com/media/2cd43b_de870a7313e1454da9573de5162b4bd5~mv2_d_1750_1209_s_2.png\")\n",
    "image"
   ]
  },
  {
   "cell_type": "markdown",
   "metadata": {},
   "source": [
    "* Now,\n",
    "    * Show the shape of that array. \n",
    "    * Take the first layer of that array, keep it in `img`, and show that array as an image, in the gray colormap.  \n",
    "    * make the negative of that image and show it\n",
    "    * flip the image horizontally\n",
    "    * take the central $300\\times300$ part of the image, keep it in `imc` and show that\n",
    "    * zoom the central part image, `imc` 2 times, by introducing a new array `imz` of size $600\\times600$\n",
    "    * now, generate a matrix of normally distributed random numbers with mean 0 and standard deviation 0.1, keep it in the array `noise`, and add that noise to the array `imc`. Plot the obtained noisy image "
   ]
  },
  {
   "cell_type": "code",
   "execution_count": 214,
   "metadata": {},
   "outputs": [
    {
     "data": {
      "text/plain": [
       "(1209, 1750, 4)"
      ]
     },
     "execution_count": 214,
     "metadata": {},
     "output_type": "execute_result"
    }
   ],
   "source": [
    "image.shape"
   ]
  },
  {
   "cell_type": "code",
   "execution_count": 230,
   "metadata": {},
   "outputs": [
    {
     "data": {
      "text/plain": [
       "<matplotlib.image.AxesImage at 0x216d3251688>"
      ]
     },
     "execution_count": 230,
     "metadata": {},
     "output_type": "execute_result"
    },
    {
     "data": {
      "image/png": "[encoded data removed]",
      "text/plain": [
       "<Figure size 432x288 with 1 Axes>"
      ]
     },
     "metadata": {
      "needs_background": "light"
     },
     "output_type": "display_data"
    }
   ],
   "source": [
    "img = image[0]\n",
    "plt.imshow(img,cmap='gray')"
   ]
  },
  {
   "cell_type": "code",
   "execution_count": null,
   "metadata": {},
   "outputs": [],
   "source": []
  },
  {
   "cell_type": "code",
   "execution_count": 240,
   "metadata": {},
   "outputs": [
    {
     "data": {
      "text/plain": [
       "<matplotlib.image.AxesImage at 0x216d7a96948>"
      ]
     },
     "execution_count": 240,
     "metadata": {},
     "output_type": "execute_result"
    },
    {
     "data": {
      "image/png": "[encoded data removed]",
      "text/plain": [
       "<Figure size 432x288 with 1 Axes>"
      ]
     },
     "metadata": {
      "needs_background": "light"
     },
     "output_type": "display_data"
    }
   ],
   "source": [
    "# plt.imshow(image.T)\n",
    "i = np.flipud(image)\n",
    "plt.imshow(i)"
   ]
  },
  {
   "cell_type": "markdown",
   "metadata": {},
   "source": [
    "## Problem 03, Applications"
   ]
  },
  {
   "cell_type": "markdown",
   "metadata": {},
   "source": [
    "- One of the methods to calculate numerically $\\sqrt{a}$ for a positive $a$ consists of the following: we define the recurrent sequence\n",
    "$$\n",
    "x_0 = 1,  \\qquad x_{n+1} = \\dfrac{1}{2}\\cdot\\left(x_n+\\dfrac{a}{x_n}\\right), \\quad n\\ge 0.\n",
    "$$\n",
    "\n",
    "Write a function, which will calculate $x_n$ for given $n$ and $a>0$.\n"
   ]
  },
  {
   "cell_type": "code",
   "execution_count": null,
   "metadata": {},
   "outputs": [],
   "source": []
  },
  {
   "cell_type": "markdown",
   "metadata": {},
   "source": [
    "- Using the above function, for $a=2$, calculate the error (absolute difference) between $x_n$ and $\\sqrt{a}$ and plot the graph of that error vs $n$, for $n=0,...,20$."
   ]
  },
  {
   "cell_type": "code",
   "execution_count": null,
   "metadata": {},
   "outputs": [],
   "source": []
  },
  {
   "cell_type": "markdown",
   "metadata": {},
   "source": [
    "- Write a function to solve quadratic equations. You need to give your function $a,b,c$, and it needs to return the solution(s) of \n",
    "$$\n",
    "ax^2 + bx +c = 0.\n",
    "$$\n",
    "In the case when the solution doesn't exists, the function needs to inform about that."
   ]
  },
  {
   "cell_type": "code",
   "execution_count": 7,
   "metadata": {},
   "outputs": [
    {
     "data": {
      "text/plain": [
       "(-3.0, 1.0)"
      ]
     },
     "execution_count": 7,
     "metadata": {},
     "output_type": "execute_result"
    }
   ],
   "source": [
    "def f(a, b, c):\n",
    "    d = b ** 2 - 4 * a * c\n",
    "    x1 = (-b - d ** 0.5) / 2 * a\n",
    "    x2 = (-b + d ** 0.5) / 2 * a\n",
    "    return x1, x2\n",
    "\n",
    "f(1,2,-3)"
   ]
  },
  {
   "cell_type": "markdown",
   "metadata": {},
   "source": [
    "- Define the function PV, which will calculate the Present Value of a Cash Flow. Input parameters of PV need to be the array of  Cash amounts, the array of time instances, when that amounts are arriving, and the compound interest rate $i$"
   ]
  },
  {
   "cell_type": "markdown",
   "metadata": {},
   "source": [
    "- The Euler method to solve numerically the first order Differential Equation \n",
    "$$\n",
    "y'=f(x,y), \\qquad x\\in[a,b] \\qquad\\qquad (*)\n",
    "$$\n",
    "with the initial condition $y(a)= y_0$, consists of the following:\n",
    "    * we take a mesh of points on $[a,b]$: \n",
    "    $$\n",
    "    x_k = a +h\\cdot k, \\qquad k=0,...,n\n",
    "    $$\n",
    "      where $h=\\dfrac{b-a}{n}$\n",
    "    * we denote $y_k = y(x_k)$, where $y(x)$ is the solution of our Differential Equation\n",
    "    * we write the equation $(*)$ at the points $x_k$:\n",
    "    $$\n",
    "    y'(x_k) = f(x_k, y_k) \\qquad k=0,1,2,...,n-1\\qquad\\qquad (**)\n",
    "    $$\n",
    "    * we approximate the derivative $y'(x_k)$ by \n",
    "    $$\n",
    "    y'(x_k)\\approx \\dfrac{y(x_{k+1})-y(x_k)}{x_{k+1}-x_k}=\\dfrac{y(x_{k+1})-y(x_k)}{h}\n",
    "    $$\n",
    "    * Now we plug this approximation into $(**)$ to obtain\n",
    "    $$\n",
    "    \\dfrac{y(x_{k+1})-y(x_k)}{h}\\approx f(x_k, y_k) \\qquad k=0,1,2,...,n-1,\n",
    "    $$\n",
    "    or, equivalently,\n",
    "    $$\n",
    "    y_{k+1} \\approx y_k+h\\cdot f(x_k, y_k), \\qquad k=0,1,...,n-1\n",
    "    $$\n",
    "    * in the last equation we change approximate equality to equality:\n",
    "    $$\n",
    "    y_{k+1} = y_k+h\\cdot f(x_k, y_k), \\qquad k=0,1,...,n-1\n",
    "    $$\n",
    "    and use this to calculate the values $y_k\\approx y(x_k)$.  "
   ]
  },
  {
   "cell_type": "markdown",
   "metadata": {},
   "source": [
    "Now, using the Euler method, solve approximately the Initial value problem\n",
    "$$\n",
    "\\left\\{\n",
    "\\begin{array}{ll}\n",
    "y' = -x\\cdot y, & x\\in[0,1]\\\\\n",
    "y(0) = 1\n",
    "\\end{array}\n",
    "\\right.\n",
    "$$\n",
    "plot the graph of your solution, and then draw over it the exact solution of the problem above. Separately, draw the error of the approximation, $|y(x_k)-y_k|$, at $x_k$."
   ]
  }
 ],
 "metadata": {
  "kernelspec": {
   "display_name": "Python 3",
   "language": "python",
   "name": "python3"
  },
  "language_info": {
   "codemirror_mode": {
    "name": "ipython",
    "version": 3
   },
   "file_extension": ".py",
   "mimetype": "text/x-python",
   "name": "python",
   "nbconvert_exporter": "python",
   "pygments_lexer": "ipython3",
   "version": "3.7.9"
  }
 },
 "nbformat": 4,
 "nbformat_minor": 4
}
